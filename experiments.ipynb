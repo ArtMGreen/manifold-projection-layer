{
  "cells": [
    {
      "cell_type": "code",
      "execution_count": 44,
      "id": "de6e2229-d7c6-44f8-9808-daba8ba70f32",
      "metadata": {
        "id": "de6e2229-d7c6-44f8-9808-daba8ba70f32"
      },
      "outputs": [],
      "source": [
        "# config.py\n",
        "epsilon_energy = 5.0\n",
        "delta_energy = 5.0\n",
        "lambda_energy = 0.25\n",
        "alpha_fgsm = 8 / 255\n",
        "\n",
        "num_classes = 10\n",
        "batch_size = 16\n",
        "epochs = 10\n",
        "lr = 0.005\n",
        "device = 'cuda'"
      ]
    },
    {
      "cell_type": "markdown",
      "source": [
        "## CIFAR-10 to PNG images (run once on your machine)"
      ],
      "metadata": {
        "id": "oTwr7tHycYQR"
      },
      "id": "oTwr7tHycYQR"
    },
    {
      "cell_type": "code",
      "source": [
        "from torchvision.datasets import CIFAR10\n",
        "from torchvision.utils import save_image\n",
        "import torchvision.transforms.v2 as transforms\n",
        "import os\n",
        "\n",
        "def extract_cifar10_as_images(root='./data'):\n",
        "    dataset = CIFAR10(root=root, train=True, download=True)\n",
        "    base_dir = os.path.join(root, \"cifar10-images/train\")\n",
        "    os.makedirs(base_dir, exist_ok=True)\n",
        "\n",
        "    for idx, (img, label) in enumerate(dataset):\n",
        "        class_dir = os.path.join(base_dir, str(label))\n",
        "        os.makedirs(class_dir, exist_ok=True)\n",
        "        save_path = os.path.join(class_dir, f\"{idx}.png\")\n",
        "        save_image(transforms.ToTensor()(img), save_path)\n",
        "\n",
        "    # Repeat for test set\n",
        "    dataset = CIFAR10(root=root, train=False, download=True)\n",
        "    base_dir = os.path.join(root, \"cifar10-images/test\")\n",
        "    os.makedirs(base_dir, exist_ok=True)\n",
        "\n",
        "    for idx, (img, label) in enumerate(dataset):\n",
        "        class_dir = os.path.join(base_dir, str(label))\n",
        "        os.makedirs(class_dir, exist_ok=True)\n",
        "        save_path = os.path.join(class_dir, f\"{idx}.png\")\n",
        "        save_image(transforms.ToTensor()(img), save_path)\n",
        "\n",
        "extract_cifar10_as_images()"
      ],
      "metadata": {
        "id": "tfWgDQ6Zcb3z"
      },
      "id": "tfWgDQ6Zcb3z",
      "execution_count": 10,
      "outputs": []
    },
    {
      "cell_type": "markdown",
      "source": [
        "## `torch` dataset and loader formation"
      ],
      "metadata": {
        "id": "jt1zr4cIcyff"
      },
      "id": "jt1zr4cIcyff"
    },
    {
      "cell_type": "code",
      "source": [
        "# dataset.py\n",
        "import torch\n",
        "from torch.utils.data import Dataset\n",
        "from torchvision.io import decode_image, ImageReadMode\n",
        "import os\n",
        "import glob\n",
        "\n",
        "from torchvision.transforms import v2\n",
        "from torchvision.transforms.functional import InterpolationMode\n",
        "\n",
        "from torch.utils.data import DataLoader\n",
        "# from config import batch_size\n",
        "\n",
        "\n",
        "class CIFAR10(Dataset):\n",
        "    def __init__(self, root, train=True, transform=None):\n",
        "        split = \"train\" if train else \"test\"\n",
        "        self.samples = []\n",
        "        base_dir = os.path.join(root, \"cifar10-images\", split)\n",
        "\n",
        "        for class_id in range(10):\n",
        "            class_dir = os.path.join(base_dir, str(class_id))\n",
        "            for img_path in glob.glob(os.path.join(class_dir, \"*.png\")):\n",
        "                self.samples.append((img_path, class_id))\n",
        "\n",
        "        self.transform = transform\n",
        "\n",
        "    def __len__(self):\n",
        "        return len(self.samples)\n",
        "\n",
        "    def __getitem__(self, idx):\n",
        "        path, label = self.samples[idx]\n",
        "        img = decode_image(path, mode=ImageReadMode.RGB)  # (C, H, W), uint8\n",
        "        if self.transform:\n",
        "            img = self.transform(img) # may or may not be in [0, 1], check your transforms\n",
        "        return img, label\n",
        "\n",
        "\n",
        "resnet18_preprocess = v2.Compose([\n",
        "    v2.Resize(224, interpolation=InterpolationMode.BILINEAR),\n",
        "    # v2.CenterCrop(224),\n",
        "    v2.ToDtype(torch.float32, scale=True),  # to [0, 1] ! ! !\n",
        "    v2.Normalize(mean=[0.485, 0.456, 0.406],\n",
        "                 std=[0.229, 0.224, 0.225])\n",
        "])\n",
        "\n",
        "\n",
        "train_dataset = CIFAR10(root='./data', train=True, transform=resnet18_preprocess)\n",
        "test_dataset = CIFAR10(root='./data', train=False, transform=resnet18_preprocess)\n",
        "\n",
        "train_loader = DataLoader(train_dataset, batch_size=batch_size, shuffle=True, num_workers=2, pin_memory=True)\n",
        "test_loader = DataLoader(test_dataset, batch_size=batch_size, num_workers=2, pin_memory=True)"
      ],
      "metadata": {
        "id": "__ijwxP3c9jG"
      },
      "id": "__ijwxP3c9jG",
      "execution_count": 45,
      "outputs": []
    },
    {
      "cell_type": "markdown",
      "source": [
        "## Model definition"
      ],
      "metadata": {
        "id": "mn5Udhh6khok"
      },
      "id": "mn5Udhh6khok"
    },
    {
      "cell_type": "code",
      "execution_count": 46,
      "id": "f9912e10-5f0a-445a-9e38-1bed36fd550e",
      "metadata": {
        "id": "f9912e10-5f0a-445a-9e38-1bed36fd550e"
      },
      "outputs": [],
      "source": [
        "# model.py\n",
        "import torch\n",
        "import torch.nn as nn\n",
        "import torchvision.models as models\n",
        "\n",
        "class ProjHead(nn.Module):\n",
        "    def __init__(self, in_dim, proj_dim):\n",
        "        super().__init__()\n",
        "        self.fc = nn.Linear(in_dim, proj_dim)\n",
        "\n",
        "    def forward(self, x):\n",
        "        z_prime = self.fc(x)\n",
        "        energy = torch.sum(z_prime ** 2, dim=1, keepdim=True)\n",
        "        return z_prime, energy\n",
        "\n",
        "class ModelWrapper(nn.Module):\n",
        "    def __init__(self, num_classes):\n",
        "        super().__init__()\n",
        "        backbone = models.resnet18(pretrained=True)\n",
        "        backbone.fc = nn.Identity()\n",
        "        self.model_backbone = backbone\n",
        "        self.proj_head = ProjHead(512, 512)\n",
        "        self.classifier = nn.Linear(512, num_classes)\n",
        "\n",
        "    def forward(self, x):\n",
        "        features = self.model_backbone(x)\n",
        "        z_prime, energy = self.proj_head(features)\n",
        "        logits = self.classifier(z_prime)\n",
        "        return logits, energy"
      ]
    },
    {
      "cell_type": "code",
      "execution_count": 47,
      "id": "f3ff06b8-d3a1-460b-a9fb-17e081e53f07",
      "metadata": {
        "id": "f3ff06b8-d3a1-460b-a9fb-17e081e53f07"
      },
      "outputs": [],
      "source": [
        "# utils.py\n",
        "import torch\n",
        "import torch.nn.functional as F\n",
        "#from config import alpha_fgsm\n",
        "\n",
        "def fgsm_attack(model, x, y, loss_fn, alpha):\n",
        "    x_adv = x.detach().clone().requires_grad_(True)\n",
        "    logits, _ = model(x_adv)\n",
        "    loss = loss_fn(logits, y)\n",
        "    loss.backward()\n",
        "    x_adv = x_adv + alpha * x_adv.grad.sign()\n",
        "    x_adv = torch.clamp(x_adv, 0, 1)\n",
        "    return x_adv.detach()\n",
        "\n",
        "def compute_loss(model, x, y, loss_fn, epsilon, delta, lambda_energy):\n",
        "    logits_clean, energy_clean = model(x)\n",
        "    loss_clean = loss_fn(logits_clean, y)\n",
        "\n",
        "    x_adv = fgsm_attack(model, x, y, loss_fn, alpha_fgsm)\n",
        "    logits_adv, energy_adv = model(x_adv)\n",
        "    loss_adv = loss_fn(logits_adv, y)\n",
        "\n",
        "    loss_energy = 0\n",
        "    if lambda_energy != 0:\n",
        "        loss_energy = lambda_energy * (\n",
        "            F.relu(energy_clean - epsilon) +\n",
        "            F.relu(epsilon + delta - energy_adv)\n",
        "        ).mean()\n",
        "\n",
        "    total_loss = loss_clean + loss_adv + loss_energy\n",
        "\n",
        "    metrics = {\n",
        "        'L_clean': loss_clean.item(),\n",
        "        'L_adv': loss_adv.item(),\n",
        "        'L_energy': loss_energy.item(),\n",
        "        'E_clean': energy_clean.mean().item(),\n",
        "        'E_adv': energy_adv.mean().item(),\n",
        "    }\n",
        "\n",
        "    return total_loss, metrics\n",
        "\n",
        "def predict_with_rejection(model, x, epsilon):\n",
        "    logits, energy = model(x)\n",
        "    preds = torch.argmax(logits, dim=1)\n",
        "    rejected = energy.squeeze() > epsilon\n",
        "    preds[rejected] = -1  # -1 means abstain\n",
        "    return preds"
      ]
    },
    {
      "cell_type": "markdown",
      "source": [
        "## Model training"
      ],
      "metadata": {
        "id": "71vIUYN9riIf"
      },
      "id": "71vIUYN9riIf"
    },
    {
      "cell_type": "code",
      "execution_count": 48,
      "id": "5e921c4f-2c9f-4098-bd5d-a529f6bb270d",
      "metadata": {
        "id": "5e921c4f-2c9f-4098-bd5d-a529f6bb270d"
      },
      "outputs": [],
      "source": [
        "# train.py\n",
        "from tqdm import tqdm\n",
        "import torch\n",
        "from torch.utils.data import DataLoader\n",
        "from torchvision import datasets, transforms\n",
        "import torch.optim as optim\n",
        "import torch.nn.functional as F\n",
        "from torchvision.models import ResNet18_Weights\n",
        "#from model import ModelWrapper\n",
        "#from utils import compute_loss\n",
        "#from config import *"
      ]
    },
    {
      "cell_type": "code",
      "execution_count": 49,
      "id": "10161bcb-c359-4d48-b71d-8ea7c73e4786",
      "metadata": {
        "id": "10161bcb-c359-4d48-b71d-8ea7c73e4786",
        "outputId": "9700e359-b92b-4920-994c-ba545c9fdcd9",
        "colab": {
          "base_uri": "https://localhost:8080/"
        }
      },
      "outputs": [
        {
          "output_type": "stream",
          "name": "stderr",
          "text": [
            "/usr/local/lib/python3.11/dist-packages/torchvision/models/_utils.py:208: UserWarning: The parameter 'pretrained' is deprecated since 0.13 and may be removed in the future, please use 'weights' instead.\n",
            "  warnings.warn(\n",
            "/usr/local/lib/python3.11/dist-packages/torchvision/models/_utils.py:223: UserWarning: Arguments other than a weight enum or `None` for 'weights' are deprecated since 0.13 and may be removed in the future. The current behavior is equivalent to passing `weights=ResNet18_Weights.IMAGENET1K_V1`. You can also use `weights=ResNet18_Weights.DEFAULT` to get the most up-to-date weights.\n",
            "  warnings.warn(msg)\n",
            "100%|██████████| 3125/3125 [07:53<00:00,  6.60it/s, L_clean=0.658, L_adv=0.896, L_energy=0.05, E_clean=3.19, E_adv=15]\n"
          ]
        },
        {
          "output_type": "stream",
          "name": "stdout",
          "text": [
            "[Epoch 1]\n",
            "  L_clean: 1.5210\n",
            "  L_adv: 1.6340\n",
            "  L_energy: 0.1814\n",
            "  E_clean: 3.9098\n",
            "  E_adv: 21.3226\n"
          ]
        },
        {
          "output_type": "stream",
          "name": "stderr",
          "text": [
            "100%|██████████| 3125/3125 [07:51<00:00,  6.62it/s, L_clean=0.501, L_adv=0.84, L_energy=0.00105, E_clean=3.1, E_adv=20.5]\n"
          ]
        },
        {
          "output_type": "stream",
          "name": "stdout",
          "text": [
            "[Epoch 2]\n",
            "  L_clean: 0.7433\n",
            "  L_adv: 1.1269\n",
            "  L_energy: 0.0393\n",
            "  E_clean: 3.4745\n",
            "  E_adv: 16.6692\n"
          ]
        },
        {
          "output_type": "stream",
          "name": "stderr",
          "text": [
            "100%|██████████| 3125/3125 [07:52<00:00,  6.62it/s, L_clean=0.4, L_adv=1.05, L_energy=0, E_clean=3.17, E_adv=14.3]\n"
          ]
        },
        {
          "output_type": "stream",
          "name": "stdout",
          "text": [
            "[Epoch 3]\n",
            "  L_clean: 0.4984\n",
            "  L_adv: 0.8925\n",
            "  L_energy: 0.0210\n",
            "  E_clean: 3.3357\n",
            "  E_adv: 16.1638\n"
          ]
        },
        {
          "output_type": "stream",
          "name": "stderr",
          "text": [
            "100%|██████████| 3125/3125 [07:51<00:00,  6.63it/s, L_clean=0.706, L_adv=1.58, L_energy=0.0203, E_clean=3.48, E_adv=16.4]\n"
          ]
        },
        {
          "output_type": "stream",
          "name": "stdout",
          "text": [
            "[Epoch 4]\n",
            "  L_clean: 0.3746\n",
            "  L_adv: 0.7475\n",
            "  L_energy: 0.0143\n",
            "  E_clean: 3.2945\n",
            "  E_adv: 16.0990\n"
          ]
        },
        {
          "output_type": "stream",
          "name": "stderr",
          "text": [
            "100%|██████████| 3125/3125 [07:51<00:00,  6.63it/s, L_clean=0.138, L_adv=0.398, L_energy=0.0137, E_clean=3.42, E_adv=17.3]\n"
          ]
        },
        {
          "output_type": "stream",
          "name": "stdout",
          "text": [
            "[Epoch 5]\n",
            "  L_clean: 0.2973\n",
            "  L_adv: 0.6491\n",
            "  L_energy: 0.0093\n",
            "  E_clean: 3.2629\n",
            "  E_adv: 15.9233\n"
          ]
        },
        {
          "output_type": "stream",
          "name": "stderr",
          "text": [
            "100%|██████████| 3125/3125 [07:51<00:00,  6.63it/s, L_clean=0.281, L_adv=0.506, L_energy=0, E_clean=2.94, E_adv=15.7]\n"
          ]
        },
        {
          "output_type": "stream",
          "name": "stdout",
          "text": [
            "[Epoch 6]\n",
            "  L_clean: 0.2361\n",
            "  L_adv: 0.5552\n",
            "  L_energy: 0.0077\n",
            "  E_clean: 3.2686\n",
            "  E_adv: 16.1080\n"
          ]
        },
        {
          "output_type": "stream",
          "name": "stderr",
          "text": [
            "100%|██████████| 3125/3125 [07:50<00:00,  6.64it/s, L_clean=0.419, L_adv=0.521, L_energy=0.000577, E_clean=3.02, E_adv=16.5]\n"
          ]
        },
        {
          "output_type": "stream",
          "name": "stdout",
          "text": [
            "[Epoch 7]\n",
            "  L_clean: 0.1910\n",
            "  L_adv: 0.4803\n",
            "  L_energy: 0.0063\n",
            "  E_clean: 3.2756\n",
            "  E_adv: 16.0151\n"
          ]
        },
        {
          "output_type": "stream",
          "name": "stderr",
          "text": [
            "100%|██████████| 3125/3125 [07:51<00:00,  6.62it/s, L_clean=0.0332, L_adv=0.435, L_energy=0.00402, E_clean=3.4, E_adv=14.8]\n"
          ]
        },
        {
          "output_type": "stream",
          "name": "stdout",
          "text": [
            "[Epoch 8]\n",
            "  L_clean: 0.1585\n",
            "  L_adv: 0.4205\n",
            "  L_energy: 0.0055\n",
            "  E_clean: 3.2771\n",
            "  E_adv: 16.3163\n"
          ]
        },
        {
          "output_type": "stream",
          "name": "stderr",
          "text": [
            "100%|██████████| 3125/3125 [07:51<00:00,  6.63it/s, L_clean=0.0869, L_adv=0.287, L_energy=0, E_clean=3.31, E_adv=18.7]\n"
          ]
        },
        {
          "output_type": "stream",
          "name": "stdout",
          "text": [
            "[Epoch 9]\n",
            "  L_clean: 0.1360\n",
            "  L_adv: 0.3747\n",
            "  L_energy: 0.0057\n",
            "  E_clean: 3.2716\n",
            "  E_adv: 16.5221\n"
          ]
        },
        {
          "output_type": "stream",
          "name": "stderr",
          "text": [
            "100%|██████████| 3125/3125 [07:50<00:00,  6.64it/s, L_clean=0.0589, L_adv=0.5, L_energy=0.0428, E_clean=3.98, E_adv=16.4]"
          ]
        },
        {
          "output_type": "stream",
          "name": "stdout",
          "text": [
            "[Epoch 10]\n",
            "  L_clean: 0.1224\n",
            "  L_adv: 0.3432\n",
            "  L_energy: 0.0079\n",
            "  E_clean: 3.2869\n",
            "  E_adv: 16.6707\n"
          ]
        },
        {
          "output_type": "stream",
          "name": "stderr",
          "text": [
            "\n"
          ]
        }
      ],
      "source": [
        "model = ModelWrapper(num_classes).to(device)\n",
        "optimizer = optim.SGD(model.parameters(), lr=lr, momentum=0.9, weight_decay=5e-4)\n",
        "loss_fn = F.cross_entropy\n",
        "\n",
        "for epoch in range(epochs):\n",
        "    model.train()\n",
        "    total_metrics = {'L_clean': 0, 'L_adv': 0, 'L_energy': 0, 'E_clean': 0, 'E_adv': 0}\n",
        "    progress_bar = tqdm(train_loader, total=len(train_loader))\n",
        "    for x, y in progress_bar:\n",
        "        x, y = x.to(device), y.to(device)\n",
        "        optimizer.zero_grad()\n",
        "        loss, metrics = compute_loss(model, x, y, loss_fn, epsilon_energy, delta_energy, lambda_energy)\n",
        "        optimizer.zero_grad()\n",
        "        loss.backward()\n",
        "        optimizer.step()\n",
        "\n",
        "        for k in total_metrics:\n",
        "            total_metrics[k] += metrics[k]\n",
        "\n",
        "        progress_bar.set_postfix(metrics)\n",
        "\n",
        "    print(f\"[Epoch {epoch+1}]\")\n",
        "    for k in total_metrics:\n",
        "        print(f\"  {k}: {total_metrics[k] / len(train_loader):.4f}\")"
      ]
    },
    {
      "cell_type": "code",
      "execution_count": 55,
      "id": "368ec60d-a0df-46bf-8081-9a79d9b3f8c7",
      "metadata": {
        "id": "368ec60d-a0df-46bf-8081-9a79d9b3f8c7"
      },
      "outputs": [],
      "source": [
        "torch.save(model.state_dict(), \"model.pt\")"
      ]
    },
    {
      "cell_type": "markdown",
      "source": [
        "## Evaluation"
      ],
      "metadata": {
        "id": "3aN3-Ph3rkfE"
      },
      "id": "3aN3-Ph3rkfE"
    },
    {
      "cell_type": "code",
      "source": [
        "model = ModelWrapper(num_classes).to(device)\n",
        "model.load_state_dict(torch.load(\"model.pt\"))"
      ],
      "metadata": {
        "id": "PXu1IUyl9MPb"
      },
      "id": "PXu1IUyl9MPb",
      "execution_count": null,
      "outputs": []
    },
    {
      "cell_type": "code",
      "execution_count": 56,
      "id": "71c96484-2a34-4b7a-8673-3f4908b1706c",
      "metadata": {
        "id": "71c96484-2a34-4b7a-8673-3f4908b1706c"
      },
      "outputs": [],
      "source": [
        "# evaluate.py\n",
        "import torch\n",
        "from torch.utils.data import DataLoader\n",
        "from torchvision import datasets, transforms\n",
        "import torch.nn.functional as F\n",
        "# from model import ModelWrapper\n",
        "# from utils import fgsm_attack, predict_with_rejection\n",
        "# from config import *\n",
        "\n",
        "def evaluate(model, loader, abstention_threshold, examples=float(\"inf\")):\n",
        "    model.eval()\n",
        "\n",
        "    all_clean_E = list()\n",
        "    all_adv_E = list()\n",
        "\n",
        "    clean_correct = 0\n",
        "    clean_total = 0\n",
        "    clean_rejects = 0\n",
        "    clean_no_defense_correct = 0\n",
        "\n",
        "    robust_correct = 0\n",
        "    robust_total = 0\n",
        "    robust_rejects = 0\n",
        "    robust_no_defense_correct = 0\n",
        "\n",
        "    # with torch.no_grad(): -- prohibited, we need gradients for FGSM attack\n",
        "    i = -1\n",
        "    for x, y in tqdm(loader, total=len(loader)):\n",
        "        i += 1\n",
        "        if i > examples:\n",
        "            break\n",
        "        x, y = x.to(device), y.to(device)\n",
        "\n",
        "        logits_clean, energy_clean = model(x)\n",
        "        all_clean_E.append(energy_clean.cpu().detach())\n",
        "        preds_clean = torch.argmax(logits_clean, dim=1)\n",
        "        reject_clean = (energy_clean.squeeze() > abstention_threshold)\n",
        "        valid_clean = ~reject_clean\n",
        "\n",
        "        clean_correct += (preds_clean[valid_clean] == y[valid_clean]).sum().item()\n",
        "        clean_no_defense_correct += (preds_clean == y).sum().item()\n",
        "        clean_rejects += reject_clean.sum().item()\n",
        "        clean_total += y.size(0)\n",
        "\n",
        "        x_adv = fgsm_attack(model, x, y, F.cross_entropy, alpha_fgsm)\n",
        "        logits_adv, energy_adv = model(x_adv)\n",
        "        all_adv_E.append(energy_adv.cpu().detach())\n",
        "        preds_adv = torch.argmax(logits_adv, dim=1)\n",
        "        reject_adv = (energy_adv.squeeze() > abstention_threshold)\n",
        "        valid_adv = ~reject_adv\n",
        "\n",
        "        robust_correct += (preds_adv[valid_adv] == y[valid_adv]).sum().item()\n",
        "        robust_no_defense_correct += (preds_adv == y).sum().item()\n",
        "        robust_rejects += reject_adv.sum().item()\n",
        "        robust_total += y.size(0)\n",
        "\n",
        "\n",
        "    if clean_total == clean_rejects:\n",
        "        clean_acc = float(\"NaN\")\n",
        "    else:\n",
        "        clean_acc = clean_correct / (clean_total - clean_rejects)\n",
        "    clean_no_def_acc = clean_no_defense_correct / clean_total\n",
        "    clean_reject_rate = clean_rejects / clean_total\n",
        "\n",
        "    if robust_total == robust_rejects:\n",
        "        robust_acc = float(\"NaN\")\n",
        "    else:\n",
        "        robust_acc = robust_correct / (robust_total - robust_rejects)\n",
        "    robust_no_def_acc = robust_no_defense_correct / robust_total\n",
        "    robust_reject_rate = robust_rejects / robust_total\n",
        "\n",
        "    print(f\"Clean Accuracy (rejected samples excluded): {clean_acc:.4f}\")\n",
        "    print(f\"Clean Accuracy (rejected samples included): {clean_no_def_acc:.4f}\")\n",
        "    print(f\"Clean Rejection Rate:       {clean_reject_rate:.4f}\")\n",
        "    print(f\"Robust Accuracy (rejected samples excluded): {robust_acc:.4f}\")\n",
        "    print(f\"Robust Accuracy (rejected samples included): {robust_no_def_acc:.4f}\")\n",
        "    print(f\"Adversarial Detection Rate:  {robust_reject_rate:.4f}\")\n",
        "\n",
        "    all_clean_E = torch.cat(all_clean_E).squeeze().numpy()\n",
        "    all_adv_E = torch.cat(all_adv_E).squeeze().numpy()\n",
        "    return all_clean_E, all_adv_E\n",
        "\n",
        "import matplotlib.pyplot as plt\n",
        "import numpy as np\n",
        "\n",
        "def energy_hist(energy_clean, energy_adv, abstention_threshold, binwidth=0.5):\n",
        "    plt.hist(energy_clean, alpha=0.5, label='Clean Energy', bins=np.arange(min(energy_clean), max(energy_clean) + binwidth, binwidth))\n",
        "    plt.hist(energy_adv, alpha=0.5, label='Adversarial Energy', bins=np.arange(min(energy_clean), max(energy_clean) + binwidth, binwidth))\n",
        "    plt.axvline(abstention_threshold, color='red', linestyle='--', label='Abstention Threshold')\n",
        "    plt.xlabel(\"Energy\")\n",
        "    plt.ylabel(\"Count\")\n",
        "    plt.title(\"Energy Distribution: Clean vs Adversarial\")\n",
        "    plt.legend()\n",
        "    plt.grid(True)\n",
        "    plt.show()\n"
      ]
    },
    {
      "cell_type": "code",
      "execution_count": 57,
      "id": "3056f9e2-59e2-4e4b-beb0-c4ee72115b4c",
      "metadata": {
        "id": "3056f9e2-59e2-4e4b-beb0-c4ee72115b4c",
        "outputId": "55952d21-8422-4926-c9e8-f6f190f187fe",
        "colab": {
          "base_uri": "https://localhost:8080/",
          "height": 614
        }
      },
      "outputs": [
        {
          "output_type": "stream",
          "name": "stderr",
          "text": [
            "100%|██████████| 3125/3125 [04:21<00:00, 11.93it/s]\n"
          ]
        },
        {
          "output_type": "stream",
          "name": "stdout",
          "text": [
            "Clean Accuracy (rejected samples excluded): 0.9709\n",
            "Clean Accuracy (rejected samples included): 0.9711\n",
            "Clean Rejection Rate:       0.0075\n",
            "Robust Accuracy (rejected samples excluded): 0.6582\n",
            "Robust Accuracy (rejected samples included): 0.6585\n",
            "Adversarial Detection Rate:  0.0009\n"
          ]
        },
        {
          "output_type": "display_data",
          "data": {
            "text/plain": [
              "<Figure size 640x480 with 1 Axes>"
            ],
            "image/png": "[encoded data removed]"
          },
          "metadata": {}
        }
      ],
      "source": [
        "E_clean, E_adv = evaluate(model, train_loader, epsilon_energy+0.5*delta_energy)\n",
        "energy_hist(E_clean, E_adv, epsilon_energy+0.5*delta_energy)"
      ]
    },
    {
      "cell_type": "code",
      "execution_count": 58,
      "id": "ca39e5ec-4f2f-48b9-9998-4908e75473ff",
      "metadata": {
        "id": "ca39e5ec-4f2f-48b9-9998-4908e75473ff",
        "outputId": "03df2b7b-1f9d-48ec-d365-22a1ea67e6c0",
        "colab": {
          "base_uri": "https://localhost:8080/",
          "height": 614
        }
      },
      "outputs": [
        {
          "output_type": "stream",
          "name": "stderr",
          "text": [
            "100%|██████████| 625/625 [00:52<00:00, 11.85it/s]\n"
          ]
        },
        {
          "output_type": "stream",
          "name": "stdout",
          "text": [
            "Clean Accuracy (rejected samples excluded): 0.8618\n",
            "Clean Accuracy (rejected samples included): 0.8624\n",
            "Clean Rejection Rate:       0.0047\n",
            "Robust Accuracy (rejected samples excluded): 0.5394\n",
            "Robust Accuracy (rejected samples included): 0.5397\n",
            "Adversarial Detection Rate:  0.0006\n"
          ]
        },
        {
          "output_type": "display_data",
          "data": {
            "text/plain": [
              "<Figure size 640x480 with 1 Axes>"
            ],
            "image/png": "[encoded data removed]"
          },
          "metadata": {}
        }
      ],
      "source": [
        "E_clean, E_adv = evaluate(model, test_loader, epsilon_energy+0.5*delta_energy)\n",
        "energy_hist(E_clean, E_adv, epsilon_energy+0.5*delta_energy)"
      ]
    }
  ],
  "metadata": {
    "kernelspec": {
      "display_name": "manifold-projection-layer",
      "language": "python",
      "name": ".venv"
    },
    "language_info": {
      "codemirror_mode": {
        "name": "ipython",
        "version": 3
      },
      "file_extension": ".py",
      "mimetype": "text/x-python",
      "name": "python",
      "nbconvert_exporter": "python",
      "pygments_lexer": "ipython3",
      "version": "3.10.12"
    },
    "colab": {
      "provenance": [],
      "collapsed_sections": [
        "oTwr7tHycYQR"
      ],
      "gpuType": "T4"
    },
    "accelerator": "GPU"
  },
  "nbformat": 4,
  "nbformat_minor": 5
}