{
 "cells": [
  {
   "cell_type": "code",
   "execution_count": 7,
   "id": "de6e2229-d7c6-44f8-9808-daba8ba70f32",
   "metadata": {},
   "outputs": [],
   "source": [
    "# config.py\n",
    "epsilon_energy = 5.0\n",
    "delta_energy = 5.0\n",
    "lambda_energy = 1.0\n",
    "alpha_fgsm = 8 / 255\n",
    "\n",
    "num_classes = 10\n",
    "batch_size = 16\n",
    "epochs = 10\n",
    "lr = 0.001\n",
    "device = 'cuda'"
   ]
  },
  {
   "cell_type": "code",
   "execution_count": 10,
   "id": "f9912e10-5f0a-445a-9e38-1bed36fd550e",
   "metadata": {},
   "outputs": [],
   "source": [
    "# model.py\n",
    "import torch\n",
    "import torch.nn as nn\n",
    "import torchvision.models as models\n",
    "\n",
    "class ProjHead(nn.Module):\n",
    "    def __init__(self, in_dim, proj_dim):\n",
    "        super().__init__()\n",
    "        self.fc = nn.Linear(in_dim, proj_dim)\n",
    "\n",
    "    def forward(self, x):\n",
    "        z_prime = self.fc(x)\n",
    "        energy = torch.sum(z_prime ** 2, dim=1, keepdim=True)\n",
    "        return z_prime, energy\n",
    "\n",
    "class ModelWrapper(nn.Module):\n",
    "    def __init__(self, num_classes):\n",
    "        super().__init__()\n",
    "        backbone = models.resnet18(pretrained=True)\n",
    "        backbone.fc = nn.Identity()\n",
    "        self.model_backbone = backbone\n",
    "        self.proj_head = ProjHead(512, 512)\n",
    "        self.classifier = nn.Linear(512, num_classes)\n",
    "\n",
    "    def forward(self, x):\n",
    "        features = self.model_backbone(x)\n",
    "        z_prime, energy = self.proj_head(features)\n",
    "        logits = self.classifier(z_prime)\n",
    "        return logits, energy"
   ]
  },
  {
   "cell_type": "code",
   "execution_count": 11,
   "id": "f3ff06b8-d3a1-460b-a9fb-17e081e53f07",
   "metadata": {},
   "outputs": [],
   "source": [
    "# utils.py\n",
    "import torch\n",
    "import torch.nn.functional as F\n",
    "#from config import alpha_fgsm\n",
    "\n",
    "def fgsm_attack(model, x, y, loss_fn, alpha):\n",
    "    x_adv = x.detach().clone().requires_grad_(True)\n",
    "    logits, _ = model(x_adv)\n",
    "    loss = loss_fn(logits, y)\n",
    "    loss.backward()\n",
    "    x_adv = x_adv + alpha * x_adv.grad.sign()\n",
    "    x_adv = torch.clamp(x_adv, 0, 1)\n",
    "    return x_adv.detach()\n",
    "\n",
    "def compute_loss(model, x, y, loss_fn, epsilon, delta, lambda_energy):\n",
    "    logits_clean, energy_clean = model(x)\n",
    "    loss_clean = loss_fn(logits_clean, y)\n",
    "\n",
    "    x_adv = fgsm_attack(model, x, y, loss_fn, alpha_fgsm)\n",
    "    logits_adv, energy_adv = model(x_adv)\n",
    "    loss_adv = loss_fn(logits_adv, y)\n",
    "\n",
    "    loss_energy = lambda_energy * (\n",
    "        F.relu(energy_clean - epsilon) + \n",
    "        F.relu(epsilon + delta - energy_adv)\n",
    "    ).mean()\n",
    "\n",
    "    total_loss = loss_clean + loss_adv + loss_energy\n",
    "\n",
    "    metrics = {\n",
    "        'L_clean': loss_clean.item(),\n",
    "        'L_adv': loss_adv.item(),\n",
    "        'L_energy': loss_energy.item(),\n",
    "        'E_clean': energy_clean.mean().item(),\n",
    "        'E_adv': energy_adv.mean().item(),\n",
    "    }\n",
    "\n",
    "    return total_loss, metrics\n",
    "\n",
    "def predict_with_rejection(model, x, epsilon):\n",
    "    logits, energy = model(x)\n",
    "    preds = torch.argmax(logits, dim=1)\n",
    "    rejected = energy.squeeze() > epsilon\n",
    "    preds[rejected] = -1  # -1 means abstain\n",
    "    return preds"
   ]
  },
  {
   "cell_type": "code",
   "execution_count": 12,
   "id": "5e921c4f-2c9f-4098-bd5d-a529f6bb270d",
   "metadata": {},
   "outputs": [],
   "source": [
    "# train.py\n",
    "import torch\n",
    "from torch.utils.data import DataLoader\n",
    "from torchvision import datasets, transforms\n",
    "import torch.optim as optim\n",
    "import torch.nn.functional as F\n",
    "from torchvision.models import ResNet18_Weights\n",
    "#from model import ModelWrapper\n",
    "#from utils import compute_loss\n",
    "#from config import *\n",
    "\n",
    "# transform_train = transforms.Compose([\n",
    "#     transforms.Resize(32),\n",
    "#     # transforms.Normalize(),\n",
    "#     transforms.ToTensor(),\n",
    "# ])\n",
    "\n",
    "# transform_test = transforms.Compose([\n",
    "#     transforms.Resize(32),\n",
    "#     # transforms.Normalize(),\n",
    "#     transforms.ToTensor(),\n",
    "# ])\n",
    "\n",
    "train_loader = DataLoader(\n",
    "    datasets.CIFAR10(root='./data', train=True, download=True, transform=transforms.Compose([ResNet18_Weights.IMAGENET1K_V1.transforms()])),\n",
    "    batch_size=batch_size, shuffle=True)\n",
    "\n",
    "test_loader = DataLoader(\n",
    "    datasets.CIFAR10(root='./data', train=False, download=True, transform=transforms.Compose([ResNet18_Weights.IMAGENET1K_V1.transforms()])),\n",
    "    batch_size=batch_size)"
   ]
  },
  {
   "cell_type": "code",
   "execution_count": 6,
   "id": "10161bcb-c359-4d48-b71d-8ea7c73e4786",
   "metadata": {},
   "outputs": [
    {
     "name": "stderr",
     "output_type": "stream",
     "text": [
      "100%|█| 3125/3125 [12:51<00:00,  4.05it/s, L_clean=1.96, L_adv=2.04, L_energy=0.\n"
     ]
    },
    {
     "name": "stdout",
     "output_type": "stream",
     "text": [
      "[Epoch 1]\n",
      "  L_clean: 1.9861\n",
      "  L_adv: 1.9598\n",
      "  L_energy: 0.5504\n",
      "  E_clean: 2.9204\n",
      "  E_adv: 28.1676\n"
     ]
    },
    {
     "name": "stderr",
     "output_type": "stream",
     "text": [
      "100%|█| 3125/3125 [12:58<00:00,  4.02it/s, L_clean=1.46, L_adv=1.75, L_energy=0.\n"
     ]
    },
    {
     "name": "stdout",
     "output_type": "stream",
     "text": [
      "[Epoch 2]\n",
      "  L_clean: 1.2583\n",
      "  L_adv: 1.4817\n",
      "  L_energy: 0.0950\n",
      "  E_clean: 3.1178\n",
      "  E_adv: 22.3103\n"
     ]
    },
    {
     "name": "stderr",
     "output_type": "stream",
     "text": [
      "100%|█| 3125/3125 [12:58<00:00,  4.01it/s, L_clean=0.623, L_adv=1.41, L_energy=0\n"
     ]
    },
    {
     "name": "stdout",
     "output_type": "stream",
     "text": [
      "[Epoch 3]\n",
      "  L_clean: 0.7663\n",
      "  L_adv: 1.1629\n",
      "  L_energy: 0.0680\n",
      "  E_clean: 3.2775\n",
      "  E_adv: 20.9385\n"
     ]
    },
    {
     "name": "stderr",
     "output_type": "stream",
     "text": [
      "100%|█| 3125/3125 [13:00<00:00,  4.01it/s, L_clean=0.158, L_adv=0.44, L_energy=0\n"
     ]
    },
    {
     "name": "stdout",
     "output_type": "stream",
     "text": [
      "[Epoch 4]\n",
      "  L_clean: 0.5153\n",
      "  L_adv: 0.9424\n",
      "  L_energy: 0.0431\n",
      "  E_clean: 3.2576\n",
      "  E_adv: 20.1415\n"
     ]
    },
    {
     "name": "stderr",
     "output_type": "stream",
     "text": [
      "100%|█| 3125/3125 [13:00<00:00,  4.00it/s, L_clean=0.884, L_adv=1.32, L_energy=0\n"
     ]
    },
    {
     "name": "stdout",
     "output_type": "stream",
     "text": [
      "[Epoch 5]\n",
      "  L_clean: 0.4592\n",
      "  L_adv: 0.9000\n",
      "  L_energy: 0.0624\n",
      "  E_clean: 3.2225\n",
      "  E_adv: 20.3281\n"
     ]
    },
    {
     "name": "stderr",
     "output_type": "stream",
     "text": [
      "100%|█| 3125/3125 [13:05<00:00,  3.98it/s, L_clean=0.296, L_adv=0.597, L_energy=\n"
     ]
    },
    {
     "name": "stdout",
     "output_type": "stream",
     "text": [
      "[Epoch 6]\n",
      "  L_clean: 0.3089\n",
      "  L_adv: 0.7191\n",
      "  L_energy: 0.0271\n",
      "  E_clean: 3.2197\n",
      "  E_adv: 19.3670\n"
     ]
    },
    {
     "name": "stderr",
     "output_type": "stream",
     "text": [
      "100%|█| 3125/3125 [13:06<00:00,  3.97it/s, L_clean=0.231, L_adv=0.459, L_energy=\n"
     ]
    },
    {
     "name": "stdout",
     "output_type": "stream",
     "text": [
      "[Epoch 7]\n",
      "  L_clean: 0.2185\n",
      "  L_adv: 0.5846\n",
      "  L_energy: 0.0167\n",
      "  E_clean: 3.2302\n",
      "  E_adv: 19.0351\n"
     ]
    },
    {
     "name": "stderr",
     "output_type": "stream",
     "text": [
      "100%|█| 3125/3125 [13:06<00:00,  3.97it/s, L_clean=0.41, L_adv=0.985, L_energy=0\n"
     ]
    },
    {
     "name": "stdout",
     "output_type": "stream",
     "text": [
      "[Epoch 8]\n",
      "  L_clean: 0.1876\n",
      "  L_adv: 0.5327\n",
      "  L_energy: 0.0941\n",
      "  E_clean: 3.2831\n",
      "  E_adv: 19.6964\n"
     ]
    },
    {
     "name": "stderr",
     "output_type": "stream",
     "text": [
      "100%|█| 3125/3125 [13:03<00:00,  3.99it/s, L_clean=0.262, L_adv=0.648, L_energy=\n"
     ]
    },
    {
     "name": "stdout",
     "output_type": "stream",
     "text": [
      "[Epoch 9]\n",
      "  L_clean: 0.1594\n",
      "  L_adv: 0.4920\n",
      "  L_energy: 0.0134\n",
      "  E_clean: 3.2066\n",
      "  E_adv: 18.6452\n"
     ]
    },
    {
     "name": "stderr",
     "output_type": "stream",
     "text": [
      "100%|█| 3125/3125 [13:02<00:00,  3.99it/s, L_clean=0.19, L_adv=0.589, L_energy=0"
     ]
    },
    {
     "name": "stdout",
     "output_type": "stream",
     "text": [
      "[Epoch 10]\n",
      "  L_clean: 0.0984\n",
      "  L_adv: 0.3509\n",
      "  L_energy: 0.0202\n",
      "  E_clean: 3.2676\n",
      "  E_adv: 20.7441\n"
     ]
    },
    {
     "name": "stderr",
     "output_type": "stream",
     "text": [
      "\n"
     ]
    }
   ],
   "source": [
    "from tqdm import tqdm\n",
    "\n",
    "model = ModelWrapper(num_classes).to(device)\n",
    "optimizer = optim.SGD(model.parameters(), lr=lr, momentum=0.9, weight_decay=5e-4)\n",
    "loss_fn = F.cross_entropy\n",
    "\n",
    "for epoch in range(epochs):\n",
    "    model.train()\n",
    "    total_metrics = {'L_clean': 0, 'L_adv': 0, 'L_energy': 0, 'E_clean': 0, 'E_adv': 0}\n",
    "    progress_bar = tqdm(train_loader, total=len(train_loader))\n",
    "    for x, y in progress_bar:\n",
    "        x, y = x.to(device), y.to(device)\n",
    "        optimizer.zero_grad()\n",
    "        loss, metrics = compute_loss(model, x, y, loss_fn, epsilon_energy, delta_energy, lambda_energy)\n",
    "        loss.backward()\n",
    "        optimizer.step()\n",
    "\n",
    "        for k in total_metrics:\n",
    "            total_metrics[k] += metrics[k]\n",
    "\n",
    "        progress_bar.set_postfix(metrics)\n",
    "\n",
    "    print(f\"[Epoch {epoch+1}]\")\n",
    "    for k in total_metrics:\n",
    "        print(f\"  {k}: {total_metrics[k] / len(train_loader):.4f}\")"
   ]
  },
  {
   "cell_type": "code",
   "execution_count": 9,
   "id": "368ec60d-a0df-46bf-8081-9a79d9b3f8c7",
   "metadata": {},
   "outputs": [],
   "source": [
    "torch.save(model.state_dict(), \"model.pt\")"
   ]
  },
  {
   "cell_type": "code",
   "execution_count": 1,
   "id": "71c96484-2a34-4b7a-8673-3f4908b1706c",
   "metadata": {},
   "outputs": [],
   "source": [
    "# evaluate.py\n",
    "import torch\n",
    "from torch.utils.data import DataLoader\n",
    "from torchvision import datasets, transforms\n",
    "import torch.nn.functional as F\n",
    "# from model import ModelWrapper\n",
    "# from utils import fgsm_attack, predict_with_rejection\n",
    "# from config import *\n",
    "\n",
    "def evaluate(loader, abstention_threshold, examples=float(\"inf\")):\n",
    "    model = ModelWrapper(num_classes).to(device)\n",
    "    model.load_state_dict(torch.load(\"model.pt\"))\n",
    "    model.eval()\n",
    "    \n",
    "    clean_correct = 0\n",
    "    clean_total = 0\n",
    "    clean_rejects = 0\n",
    "    \n",
    "    robust_correct = 0\n",
    "    robust_total = 0\n",
    "    robust_rejects = 0\n",
    "    robust_no_defense_correct = 0\n",
    "    \n",
    "    # with torch.no_grad(): -- prohibited, we need gradients for FGSM attack\n",
    "    i = -1\n",
    "    for x, y in tqdm(loader, total=len(loader)):\n",
    "        i += 1\n",
    "        if i > examples:\n",
    "            break\n",
    "        x, y = x.to(device), y.to(device)\n",
    "    \n",
    "        logits_clean, energy_clean = model(x)\n",
    "        preds_clean = torch.argmax(logits_clean, dim=1)\n",
    "        reject_clean = (energy_clean.squeeze() > abstention_threshold)\n",
    "        valid_clean = ~reject_clean\n",
    "    \n",
    "        clean_correct += (preds_clean[valid_clean] == y[valid_clean]).sum().item()\n",
    "        clean_rejects += reject_clean.sum().item()\n",
    "        clean_total += y.size(0)\n",
    "    \n",
    "        x_adv = fgsm_attack(model, x, y, F.cross_entropy, alpha_fgsm)\n",
    "        logits_adv, energy_adv = model(x_adv)\n",
    "        preds_adv = torch.argmax(logits_adv, dim=1)\n",
    "        reject_adv = (energy_adv.squeeze() > abstention_threshold)\n",
    "        valid_adv = ~reject_adv\n",
    "    \n",
    "        robust_correct += (preds_adv[valid_adv] == y[valid_adv]).sum().item()\n",
    "        robust_no_defense_correct += (preds_adv == y).sum().item()\n",
    "        robust_rejects += reject_adv.sum().item()\n",
    "        robust_total += y.size(0)\n",
    "    \n",
    "    \n",
    "    if clean_total == clean_rejects:\n",
    "        clean_acc = float(\"NaN\")\n",
    "    else:\n",
    "        clean_acc = clean_correct / (clean_total - clean_rejects)\n",
    "    clean_reject_rate = clean_rejects / clean_total\n",
    "    \n",
    "    if robust_total == robust_rejects:\n",
    "        robust_acc = float(\"NaN\")\n",
    "    else:\n",
    "        robust_acc = robust_correct / (robust_total - robust_rejects)\n",
    "    robust_no_def_acc = robust_no_defense_correct / robust_total\n",
    "    robust_reject_rate = robust_rejects / robust_total\n",
    "    \n",
    "    print(f\"Clean Accuracy (rejected samples excluded): {clean_acc:.4f}\")\n",
    "    print(f\"Clean Rejection Rate:       {clean_reject_rate:.4f}\")\n",
    "    print(f\"Robust Accuracy (rejected samples excluded): {robust_acc:.4f}\")\n",
    "    print(f\"Robust Accuracy (rejected samples included): {robust_no_def_acc:.4f}\")\n",
    "    print(f\"Adversarial Detection Rate:  {robust_reject_rate:.4f}\")"
   ]
  },
  {
   "cell_type": "code",
   "execution_count": 8,
   "id": "1e62e238-d718-4b7b-9139-89967734cb9e",
   "metadata": {},
   "outputs": [],
   "source": [
    "train_loader = DataLoader(\n",
    "    datasets.CIFAR10(root='./data', train=True, download=True,\n",
    "                     transform=transforms.Compose([ResNet18_Weights.IMAGENET1K_V1.transforms()])),\n",
    "    batch_size=batch_size)\n",
    "\n",
    "\n",
    "test_loader = DataLoader(\n",
    "    datasets.CIFAR10(root='./data', train=False, download=True,\n",
    "                     transform=transforms.Compose([ResNet18_Weights.IMAGENET1K_V1.transforms()])),\n",
    "    batch_size=batch_size)"
   ]
  },
  {
   "cell_type": "code",
   "execution_count": 22,
   "id": "ca39e5ec-4f2f-48b9-9998-4908e75473ff",
   "metadata": {},
   "outputs": [
    {
     "name": "stderr",
     "output_type": "stream",
     "text": [
      "100%|█████████████████████████████████████████| 625/625 [01:34<00:00,  6.59it/s]"
     ]
    },
    {
     "name": "stdout",
     "output_type": "stream",
     "text": [
      "Clean Accuracy (rejected samples excluded): 0.8571\n",
      "Clean Rejection Rate:       0.9993\n",
      "Robust Accuracy (rejected samples excluded): nan\n",
      "Robust Accuracy (rejected samples included): 0.4580\n",
      "Adversarial Detection Rate:  1.0000\n"
     ]
    },
    {
     "name": "stderr",
     "output_type": "stream",
     "text": [
      "\n"
     ]
    }
   ],
   "source": [
    "evaluate(test_loader, epsilon_energy)"
   ]
  },
  {
   "cell_type": "code",
   "execution_count": 23,
   "id": "9ab03a9b-b8b1-48f3-99b0-7dc9431d90c9",
   "metadata": {},
   "outputs": [
    {
     "name": "stderr",
     "output_type": "stream",
     "text": [
      "100%|█████████████████████████████████████████| 625/625 [01:39<00:00,  6.26it/s]"
     ]
    },
    {
     "name": "stdout",
     "output_type": "stream",
     "text": [
      "Clean Accuracy (rejected samples excluded): 0.8352\n",
      "Clean Rejection Rate:       0.1822\n",
      "Robust Accuracy (rejected samples excluded): 0.4535\n",
      "Robust Accuracy (rejected samples included): 0.4580\n",
      "Adversarial Detection Rate:  0.0416\n"
     ]
    },
    {
     "name": "stderr",
     "output_type": "stream",
     "text": [
      "\n"
     ]
    }
   ],
   "source": [
    "evaluate(test_loader, epsilon_energy+delta_energy)"
   ]
  },
  {
   "cell_type": "code",
   "execution_count": 15,
   "id": "3056f9e2-59e2-4e4b-beb0-c4ee72115b4c",
   "metadata": {},
   "outputs": [
    {
     "name": "stderr",
     "output_type": "stream",
     "text": [
      " 32%|████████████▍                          | 1001/3125 [02:33<05:26,  6.50it/s]"
     ]
    },
    {
     "name": "stdout",
     "output_type": "stream",
     "text": [
      "Clean Accuracy (rejected samples excluded): 1.0000\n",
      "Clean Rejection Rate:       0.9993\n",
      "Robust Accuracy (rejected samples excluded): nan\n",
      "Robust Accuracy (rejected samples included): 0.5155\n",
      "Adversarial Detection Rate:  1.0000\n"
     ]
    },
    {
     "name": "stderr",
     "output_type": "stream",
     "text": [
      "\n"
     ]
    }
   ],
   "source": [
    "evaluate(train_loader, epsilon_energy, examples=1000)"
   ]
  },
  {
   "cell_type": "code",
   "execution_count": null,
   "id": "2cc1f821-b122-4252-adcf-51ec10ad6ada",
   "metadata": {},
   "outputs": [],
   "source": []
  }
 ],
 "metadata": {
  "kernelspec": {
   "display_name": "manifold-projection-layer",
   "language": "python",
   "name": ".venv"
  },
  "language_info": {
   "codemirror_mode": {
    "name": "ipython",
    "version": 3
   },
   "file_extension": ".py",
   "mimetype": "text/x-python",
   "name": "python",
   "nbconvert_exporter": "python",
   "pygments_lexer": "ipython3",
   "version": "3.10.12"
  }
 },
 "nbformat": 4,
 "nbformat_minor": 5
}
