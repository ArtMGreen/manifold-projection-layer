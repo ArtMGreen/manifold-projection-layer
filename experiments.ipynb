{
 "cells": [
  {
   "cell_type": "code",
   "execution_count": 1,
   "id": "de6e2229-d7c6-44f8-9808-daba8ba70f32",
   "metadata": {
    "id": "de6e2229-d7c6-44f8-9808-daba8ba70f32"
   },
   "outputs": [],
   "source": [
    "from config import DEVICE, BATCH_SIZE"
   ]
  },
  {
   "cell_type": "markdown",
   "id": "jt1zr4cIcyff",
   "metadata": {
    "id": "jt1zr4cIcyff"
   },
   "source": [
    "## `torch` dataset and loader formation"
   ]
  },
  {
   "cell_type": "code",
   "execution_count": 2,
   "id": "__ijwxP3c9jG",
   "metadata": {
    "id": "__ijwxP3c9jG"
   },
   "outputs": [
    {
     "name": "stdout",
     "output_type": "stream",
     "text": [
      "CIFAR-10 images already extracted: 50000 train, 10000 test images found.\n",
      "CIFAR-10 images already extracted: 50000 train, 10000 test images found.\n",
      "CIFAR-10 images already extracted: 50000 train, 10000 test images found.\n"
     ]
    }
   ],
   "source": [
    "import torch\n",
    "from torchvision.transforms import v2\n",
    "from torchvision.transforms.functional import InterpolationMode\n",
    "from torch.utils.data import DataLoader\n",
    "\n",
    "from config import DATASET, IND_CLASSES, OOD_CLASSES\n",
    "\n",
    "\n",
    "resnet18_preprocess = v2.Compose([\n",
    "    v2.Resize(224, interpolation=InterpolationMode.BILINEAR),\n",
    "    # v2.CenterCrop(224),\n",
    "    v2.ToDtype(torch.float32, scale=True),  # to [0, 1]\n",
    "    v2.Normalize(mean=DATASET.MEAN,\n",
    "                 std=DATASET.STD)  # to ([0, 1]^3 - mean) / std\n",
    "])\n",
    "\n",
    "train_dataset = DATASET(root='./data', include_classes=IND_CLASSES,\n",
    "                        train=True, transform=resnet18_preprocess)\n",
    "test_dataset = DATASET(root='./data', include_classes=IND_CLASSES,\n",
    "                       train=False, transform=resnet18_preprocess)\n",
    "OOD_dataset = DATASET(root='./data', include_classes=OOD_CLASSES,\n",
    "                       train=True, transform=resnet18_preprocess)\n",
    "\n",
    "train_loader = DataLoader(train_dataset, batch_size=BATCH_SIZE, shuffle=True, num_workers=8, pin_memory=True)\n",
    "test_loader = DataLoader(test_dataset, batch_size=BATCH_SIZE, num_workers=8, pin_memory=True)\n",
    "OOD_loader = DataLoader(OOD_dataset, batch_size=BATCH_SIZE, num_workers=8, pin_memory=True)"
   ]
  },
  {
   "cell_type": "markdown",
   "id": "mn5Udhh6khok",
   "metadata": {
    "id": "mn5Udhh6khok"
   },
   "source": [
    "## Total loss definition"
   ]
  },
  {
   "cell_type": "code",
   "execution_count": 3,
   "id": "f3ff06b8-d3a1-460b-a9fb-17e081e53f07",
   "metadata": {
    "id": "f3ff06b8-d3a1-460b-a9fb-17e081e53f07"
   },
   "outputs": [],
   "source": [
    "import torch\n",
    "\n",
    "from adversaries import FGSM_attack\n",
    "\n",
    "from config import CLS_LOSS_FN, ENERGY_ENFORCEMENT_FN\n",
    "\n",
    "\n",
    "def compute_loss(model, x, y, alpha_FGSM,\n",
    "                 epsilon_energy, delta_energy, λ_adv, λ_energy):\n",
    "    \n",
    "    logits_clean, E_clean = model(x)\n",
    "    L_clean = CLS_LOSS_FN(logits_clean, y, reduction=\"mean\")\n",
    "\n",
    "    x_adv = FGSM_attack(model, x, y, alpha_FGSM)\n",
    "    logits_adv, E_adv = model(x_adv)\n",
    "    L_adv = torch.tensor(0)\n",
    "    if λ_adv != 0:\n",
    "        L_adv = CLS_LOSS_FN(logits_adv, y, reduction=\"mean\")\n",
    "\n",
    "    L_energy = torch.tensor(0)\n",
    "    if λ_energy != 0:\n",
    "        E_clean_penalty = ENERGY_ENFORCEMENT_FN(E_clean - epsilon_energy)\n",
    "        E_adv_penalty = ENERGY_ENFORCEMENT_FN(epsilon_energy + delta_energy - E_adv)\n",
    "        L_energy = E_clean_penalty.mean() + E_adv_penalty.mean()\n",
    "\n",
    "    L_total = L_clean + λ_adv*L_adv + λ_energy*L_energy\n",
    "\n",
    "    metrics = {\n",
    "        'L_clean': L_clean.item(),\n",
    "        'L_adv': λ_adv*L_adv.item(),\n",
    "        'L_energy': λ_energy*L_energy.item(),\n",
    "        'E_clean': E_clean.mean().item(),\n",
    "        'E_adv': E_adv.mean().item(),\n",
    "    }\n",
    "\n",
    "    return L_total, metrics"
   ]
  },
  {
   "cell_type": "markdown",
   "id": "71vIUYN9riIf",
   "metadata": {
    "id": "71vIUYN9riIf"
   },
   "source": [
    "## Model training"
   ]
  },
  {
   "cell_type": "code",
   "execution_count": 4,
   "id": "10161bcb-c359-4d48-b71d-8ea7c73e4786",
   "metadata": {
    "colab": {
     "base_uri": "https://localhost:8080/"
    },
    "id": "10161bcb-c359-4d48-b71d-8ea7c73e4786",
    "outputId": "9700e359-b92b-4920-994c-ba545c9fdcd9"
   },
   "outputs": [
    {
     "name": "stderr",
     "output_type": "stream",
     "text": [
      "100%|█| 2813/2813 [10:07<00:00,  4.63it/s, L_clean=2.23, L_adv=2.47, L_energy=7.\n"
     ]
    },
    {
     "name": "stdout",
     "output_type": "stream",
     "text": [
      "[Epoch 1]\n",
      "  L_clean: 2.0821\n",
      "  L_adv: 2.2651\n",
      "  L_energy: 7.5177\n",
      "  E_clean: 9.3451\n",
      "  E_adv: 9.4725\n"
     ]
    },
    {
     "name": "stderr",
     "output_type": "stream",
     "text": [
      "100%|█| 2813/2813 [17:43<00:00,  2.64it/s, L_clean=1.66, L_adv=1.9, L_energy=0, \n"
     ]
    },
    {
     "name": "stdout",
     "output_type": "stream",
     "text": [
      "[Epoch 2]\n",
      "  L_clean: 1.8838\n",
      "  L_adv: 2.0310\n",
      "  L_energy: 2.8051\n",
      "  E_clean: 4.6201\n",
      "  E_adv: 35.1288\n"
     ]
    },
    {
     "name": "stderr",
     "output_type": "stream",
     "text": [
      "100%|█| 2813/2813 [21:18<00:00,  2.20it/s, L_clean=1.58, L_adv=1.59, L_energy=0,\n"
     ]
    },
    {
     "name": "stdout",
     "output_type": "stream",
     "text": [
      "[Epoch 3]\n",
      "  L_clean: 1.5087\n",
      "  L_adv: 1.7589\n",
      "  L_energy: 0.0041\n",
      "  E_clean: 0.5397\n",
      "  E_adv: 53.9963\n"
     ]
    },
    {
     "name": "stderr",
     "output_type": "stream",
     "text": [
      "100%|█| 2813/2813 [21:28<00:00,  2.18it/s, L_clean=1.68, L_adv=1.69, L_energy=0,\n"
     ]
    },
    {
     "name": "stdout",
     "output_type": "stream",
     "text": [
      "[Epoch 4]\n",
      "  L_clean: 1.2893\n",
      "  L_adv: 1.4990\n",
      "  L_energy: 0.0007\n",
      "  E_clean: 0.3841\n",
      "  E_adv: 49.9022\n"
     ]
    },
    {
     "name": "stderr",
     "output_type": "stream",
     "text": [
      "100%|█| 2813/2813 [21:31<00:00,  2.18it/s, L_clean=0.509, L_adv=1.12, L_energy=0\n"
     ]
    },
    {
     "name": "stdout",
     "output_type": "stream",
     "text": [
      "[Epoch 5]\n",
      "  L_clean: 1.1053\n",
      "  L_adv: 1.4178\n",
      "  L_energy: 0.0196\n",
      "  E_clean: 0.3855\n",
      "  E_adv: 52.1185\n"
     ]
    },
    {
     "name": "stderr",
     "output_type": "stream",
     "text": [
      "100%|█| 2813/2813 [21:48<00:00,  2.15it/s, L_clean=0.706, L_adv=1.33, L_energy=0\n"
     ]
    },
    {
     "name": "stdout",
     "output_type": "stream",
     "text": [
      "[Epoch 6]\n",
      "  L_clean: 0.9442\n",
      "  L_adv: 1.1453\n",
      "  L_energy: 0.0002\n",
      "  E_clean: 0.4436\n",
      "  E_adv: 49.6304\n"
     ]
    },
    {
     "name": "stderr",
     "output_type": "stream",
     "text": [
      "100%|█| 2813/2813 [21:57<00:00,  2.13it/s, L_clean=0.714, L_adv=0.5, L_energy=0,"
     ]
    },
    {
     "name": "stdout",
     "output_type": "stream",
     "text": [
      "[Epoch 7]\n",
      "  L_clean: 0.8361\n",
      "  L_adv: 0.9897\n",
      "  L_energy: 0.0022\n",
      "  E_clean: 0.3411\n",
      "  E_adv: 62.4267\n"
     ]
    },
    {
     "name": "stderr",
     "output_type": "stream",
     "text": [
      "\n"
     ]
    }
   ],
   "source": [
    "from tqdm import tqdm\n",
    "import torch.optim as optim\n",
    "\n",
    "from config import MODEL_CLASS\n",
    "\n",
    "from config import TRAIN_FGSM_ALPHA, NUM_EPOCHS, LR\n",
    "from config import EPSILON_ENERGY, DELTA_ENERGY, λ_ADV, λ_ENERGY\n",
    "\n",
    "\n",
    "model = MODEL_CLASS(len(IND_CLASSES)).to(DEVICE)\n",
    "# model.load_state_dict(torch.load(\"resnet18_16aug_parallel_inverted_energy.pt\"))\n",
    "optimizer = optim.SGD(model.parameters(), lr=LR, momentum=0.9)\n",
    "\n",
    "for epoch in range(NUM_EPOCHS):\n",
    "    model.train()\n",
    "    total_metrics = {'L_clean': 0, 'L_adv': 0, 'L_energy': 0, 'E_clean': 0, 'E_adv': 0}\n",
    "    progress_bar = tqdm(train_loader, total=len(train_loader))\n",
    "    for x, y in progress_bar:\n",
    "        x, y = x.to(DEVICE), y.to(DEVICE)\n",
    "        optimizer.zero_grad()\n",
    "        loss, metrics = compute_loss(model, x, y, TRAIN_FGSM_ALPHA,\n",
    "                                     EPSILON_ENERGY, DELTA_ENERGY, λ_ADV, λ_ENERGY)\n",
    "        optimizer.zero_grad()\n",
    "        loss.backward()\n",
    "        optimizer.step()\n",
    "\n",
    "        for k in total_metrics:\n",
    "            total_metrics[k] += metrics[k]\n",
    "\n",
    "        progress_bar.set_postfix(metrics)\n",
    "\n",
    "    print(f\"[Epoch {epoch+1}]\")\n",
    "    for k in total_metrics:\n",
    "        print(f\"  {k}: {total_metrics[k] / len(train_loader):.4f}\")"
   ]
  },
  {
   "cell_type": "code",
   "execution_count": 5,
   "id": "368ec60d-a0df-46bf-8081-9a79d9b3f8c7",
   "metadata": {
    "id": "368ec60d-a0df-46bf-8081-9a79d9b3f8c7"
   },
   "outputs": [],
   "source": [
    "torch.save(model.state_dict(), \"resnet18_aug21_OOD.pt\")"
   ]
  },
  {
   "cell_type": "markdown",
   "id": "3aN3-Ph3rkfE",
   "metadata": {
    "id": "3aN3-Ph3rkfE"
   },
   "source": [
    "## Evaluation"
   ]
  },
  {
   "cell_type": "code",
   "execution_count": 3,
   "id": "PXu1IUyl9MPb",
   "metadata": {
    "id": "PXu1IUyl9MPb"
   },
   "outputs": [
    {
     "data": {
      "text/plain": [
       "<All keys matched successfully>"
      ]
     },
     "execution_count": 3,
     "metadata": {},
     "output_type": "execute_result"
    }
   ],
   "source": [
    "from config import MODEL_CLASS\n",
    "\n",
    "model = MODEL_CLASS(len(IND_CLASSES)).to(DEVICE)\n",
    "model.load_state_dict(torch.load(\"resnet18_aug21_OOD.pt\"))"
   ]
  },
  {
   "cell_type": "code",
   "execution_count": 4,
   "id": "a5d54ae4-1585-45c6-a64f-a7ed927f5e60",
   "metadata": {},
   "outputs": [
    {
     "name": "stderr",
     "output_type": "stream",
     "text": [
      "Evaluating: 100%|█████████████████████████████| 563/563 [00:59<00:00,  9.45it/s]\n",
      "Evaluating: 100%|█████████████████████████████| 313/313 [00:08<00:00, 35.98it/s]\n"
     ]
    },
    {
     "data": {
      "image/png": "[encoded data removed]",
      "text/plain": [
       "<Figure size 640x480 with 2 Axes>"
      ]
     },
     "metadata": {},
     "output_type": "display_data"
    }
   ],
   "source": [
    "from evaluation import *\n",
    "\n",
    "clean_E, adv_E, clean_res, adv_res = results_and_energy(model, test_loader)\n",
    "OOD_E = energy(model, OOD_loader)\n",
    "clean_E, clean_acc_at_thresh = evaluate_at_threshold(clean_E, clean_res, reject_lower_than_threshold=False)\n",
    "adv_E, adv_acc_at_thresh = evaluate_at_threshold(adv_E, adv_res, reject_lower_than_threshold=False)\n",
    "\n",
    "energies = {\"E_clean\": clean_E, \"E_adv\": adv_E, \"E_OOD\": OOD_E}\n",
    "curves = {\"Clean\": (clean_E, clean_acc_at_thresh),\n",
    "          \"Adversarial\": (adv_E, adv_acc_at_thresh)}\n",
    "\n",
    "evaluation_figure(energies, curves)"
   ]
  }
 ],
 "metadata": {
  "accelerator": "GPU",
  "colab": {
   "collapsed_sections": [
    "oTwr7tHycYQR"
   ],
   "gpuType": "T4",
   "provenance": []
  },
  "kernelspec": {
   "display_name": "manifold-projection-layer",
   "language": "python",
   "name": ".venv"
  },
  "language_info": {
   "codemirror_mode": {
    "name": "ipython",
    "version": 3
   },
   "file_extension": ".py",
   "mimetype": "text/x-python",
   "name": "python",
   "nbconvert_exporter": "python",
   "pygments_lexer": "ipython3",
   "version": "3.10.12"
  }
 },
 "nbformat": 4,
 "nbformat_minor": 5
}
