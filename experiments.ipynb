{
 "cells": [
  {
   "cell_type": "code",
   "execution_count": 38,
   "id": "de6e2229-d7c6-44f8-9808-daba8ba70f32",
   "metadata": {
    "id": "de6e2229-d7c6-44f8-9808-daba8ba70f32"
   },
   "outputs": [],
   "source": [
    "# config.py\n",
    "import torch\n",
    "\n",
    "epsilon_energy = 5.0\n",
    "delta_energy = 5.0\n",
    "lambda_adv = 0\n",
    "lambda_energy = 0.5\n",
    "alpha_fgsm = 8 / 256\n",
    "\n",
    "num_classes = 10\n",
    "batch_size = 16\n",
    "epochs = 3\n",
    "lr = 0.01\n",
    "if torch.cuda.is_available():\n",
    "    device = 'cuda'\n",
    "elif torch.backends.mps.is_available():\n",
    "    device = 'mps'\n",
    "else:\n",
    "    device = 'cpu'\n",
    "\n",
    "# Normalization parameters for ResNet18 trained on ImageNet1K_V1 only!!\n",
    "# TODO: automated mean and std computation depending on the dataset\n",
    "IMAGENET_MEAN = [0.485, 0.456, 0.406]\n",
    "IMAGENET_STD = [0.229, 0.224, 0.225]\n",
    "\n",
    "# [0, 1] -> [PIXEL_MIN, PIXEL_MAX]\n",
    "# Note: each color channel has a different legal range\n",
    "PIXEL_MIN = torch.tensor([(0 - m) / s for m, s in zip(IMAGENET_MEAN, IMAGENET_STD)])\n",
    "PIXEL_MAX = torch.tensor([(1 - m) / s for m, s in zip(IMAGENET_MEAN, IMAGENET_STD)])"
   ]
  },
  {
   "cell_type": "code",
   "execution_count": 25,
   "id": "f805dd61-6fa6-4a7c-acd1-bd04992ac70a",
   "metadata": {},
   "outputs": [
    {
     "data": {
      "text/plain": [
       "(tensor([-2.1179, -2.0357, -1.8044]), tensor([2.2489, 2.4286, 2.6400]))"
      ]
     },
     "execution_count": 25,
     "metadata": {},
     "output_type": "execute_result"
    }
   ],
   "source": [
    "PIXEL_MIN, PIXEL_MAX"
   ]
  },
  {
   "cell_type": "markdown",
   "id": "oTwr7tHycYQR",
   "metadata": {
    "id": "oTwr7tHycYQR"
   },
   "source": [
    "## CIFAR-10 to PNG images (run once on your machine)"
   ]
  },
  {
   "cell_type": "code",
   "execution_count": 26,
   "id": "e93ab45b-56a1-4b99-a08d-ca27a45732c5",
   "metadata": {},
   "outputs": [
    {
     "name": "stdout",
     "output_type": "stream",
     "text": [
      "CIFAR-10 images already extracted: 50000 train, 10000 test images found.\n"
     ]
    }
   ],
   "source": [
    "from download_CIFAR10 import extract_cifar10_as_images\n",
    "extract_cifar10_as_images()"
   ]
  },
  {
   "cell_type": "markdown",
   "id": "jt1zr4cIcyff",
   "metadata": {
    "id": "jt1zr4cIcyff"
   },
   "source": [
    "## `torch` dataset and loader formation"
   ]
  },
  {
   "cell_type": "code",
   "execution_count": 27,
   "id": "__ijwxP3c9jG",
   "metadata": {
    "id": "__ijwxP3c9jG"
   },
   "outputs": [],
   "source": [
    "import torch\n",
    "\n",
    "from torchvision.transforms import v2\n",
    "from torchvision.transforms.functional import InterpolationMode\n",
    "\n",
    "from torch.utils.data import DataLoader\n",
    "\n",
    "from dataset import CIFAR10\n",
    "# from config import batch_size\n",
    "\n",
    "\n",
    "resnet18_preprocess = v2.Compose([\n",
    "    v2.Resize(224, interpolation=InterpolationMode.BILINEAR),\n",
    "    # v2.CenterCrop(224),\n",
    "    v2.ToDtype(torch.float32, scale=True),  # to [0, 1]\n",
    "    v2.Normalize(mean=[0.485, 0.456, 0.406],\n",
    "                 std=[0.229, 0.224, 0.225])  # to ([0, 1]^3 - mean) / std\n",
    "])\n",
    "\n",
    "train_dataset = CIFAR10(root='./data', train=True, transform=resnet18_preprocess)\n",
    "test_dataset = CIFAR10(root='./data', train=False, transform=resnet18_preprocess)\n",
    "\n",
    "train_loader = DataLoader(train_dataset, batch_size=batch_size, shuffle=True, num_workers=8, pin_memory=True)\n",
    "test_loader = DataLoader(test_dataset, batch_size=batch_size, num_workers=8, pin_memory=True)"
   ]
  },
  {
   "cell_type": "markdown",
   "id": "mn5Udhh6khok",
   "metadata": {
    "id": "mn5Udhh6khok"
   },
   "source": [
    "## Model definition"
   ]
  },
  {
   "cell_type": "code",
   "execution_count": 28,
   "id": "f9912e10-5f0a-445a-9e38-1bed36fd550e",
   "metadata": {
    "id": "f9912e10-5f0a-445a-9e38-1bed36fd550e"
   },
   "outputs": [],
   "source": [
    "# model.py\n",
    "from model import ModelWrapper"
   ]
  },
  {
   "cell_type": "code",
   "execution_count": 29,
   "id": "f3ff06b8-d3a1-460b-a9fb-17e081e53f07",
   "metadata": {
    "id": "f3ff06b8-d3a1-460b-a9fb-17e081e53f07"
   },
   "outputs": [],
   "source": [
    "# utils.py\n",
    "import torch\n",
    "import torch.nn.functional as F\n",
    "#from config import alpha_fgsm\n",
    "\n",
    "def fgsm_attack(model, x, y, loss_fn, alpha):\n",
    "    was_training = model.training\n",
    "    model.eval()\n",
    "\n",
    "    x_adv = x.detach().clone().requires_grad_(True)\n",
    "    logits, _ = model(x_adv)\n",
    "    loss = loss_fn(logits, y)\n",
    "    loss.backward()\n",
    "\n",
    "    min_vals = PIXEL_MIN.to(x_adv.device).view(1, 3, 1, 1).expand_as(x_adv)\n",
    "    max_vals = PIXEL_MAX.to(x_adv.device).view(1, 3, 1, 1).expand_as(x_adv)\n",
    "\n",
    "    ranges = max_vals - min_vals\n",
    "\n",
    "    x_adv = x_adv + alpha * ranges * x_adv.grad.sign()\n",
    "    x_adv = torch.clamp(x_adv, min_vals, max_vals)\n",
    "\n",
    "    if was_training:\n",
    "        model.train()\n",
    "\n",
    "    return x_adv.detach()\n",
    "\n",
    "\n",
    "def compute_loss(model, x, y, loss_fn, epsilon, delta, lambda_adv, lambda_energy, use_lower_boundary, use_upper_boundary):\n",
    "    logits_clean, energy_clean = model(x)\n",
    "    loss_clean = loss_fn(logits_clean, y, reduction=\"mean\")\n",
    "\n",
    "    # model.eval() is called inside fgsm_attack()\n",
    "    x_adv = fgsm_attack(model, x, y, loss_fn, alpha_fgsm)\n",
    "    # model.train() is called inside fgsm_attack() if the original state was training\n",
    "    logits_adv, energy_adv = model(x_adv)\n",
    "    \n",
    "    loss_adv = torch.tensor(0)\n",
    "    if lambda_adv != 0:\n",
    "        loss_adv = loss_fn(logits_adv, y, reduction=\"mean\")\n",
    "\n",
    "    loss_energy = torch.tensor(0)\n",
    "    if lambda_energy != 0:\n",
    "        # E_clean_penalty = energy_clean - epsilon\n",
    "        E_clean_penalty = -energy_clean + epsilon\n",
    "        if use_lower_boundary:\n",
    "            E_clean_penalty = F.relu(E_clean_penalty)\n",
    "\n",
    "        # E_adv_penalty = epsilon + delta - energy_adv\n",
    "        E_adv_penalty = -energy_adv + epsilon\n",
    "        if use_upper_boundary:\n",
    "            E_adv_penalty = F.relu(E_adv_penalty)\n",
    "\n",
    "        energy_terms = (E_clean_penalty + E_adv_penalty).mean(dim=0)  # mean over batch\n",
    "        loss_energy = lambda_energy * energy_terms.mean()\n",
    "\n",
    "    total_loss = loss_clean + loss_adv + loss_energy\n",
    "\n",
    "    metrics = {\n",
    "        'L_clean': loss_clean.item(),\n",
    "        'L_adv': loss_adv.item(),\n",
    "        'L_energy': loss_energy.item(),\n",
    "        'E_clean': energy_clean.mean().item(),\n",
    "        'E_adv': energy_adv.mean().item(),\n",
    "    }\n",
    "\n",
    "    return total_loss, metrics\n",
    "\n",
    "def predict_with_rejection(model, x, epsilon):\n",
    "    logits, energy = model(x)\n",
    "    preds = torch.argmax(logits, dim=1)\n",
    "    rejected = energy.squeeze() > epsilon\n",
    "    preds[rejected] = -1  # -1 means abstain\n",
    "    return preds"
   ]
  },
  {
   "cell_type": "markdown",
   "id": "71vIUYN9riIf",
   "metadata": {
    "id": "71vIUYN9riIf"
   },
   "source": [
    "## Model training"
   ]
  },
  {
   "cell_type": "code",
   "execution_count": 30,
   "id": "5e921c4f-2c9f-4098-bd5d-a529f6bb270d",
   "metadata": {
    "id": "5e921c4f-2c9f-4098-bd5d-a529f6bb270d"
   },
   "outputs": [],
   "source": [
    "# train.py\n",
    "from tqdm import tqdm\n",
    "import torch\n",
    "from torch.utils.data import DataLoader\n",
    "from torchvision import datasets, transforms\n",
    "import torch.optim as optim\n",
    "import torch.nn.functional as F\n",
    "\n",
    "\n",
    "#from utils import compute_loss\n",
    "#from config import *"
   ]
  },
  {
   "cell_type": "code",
   "execution_count": 31,
   "id": "10161bcb-c359-4d48-b71d-8ea7c73e4786",
   "metadata": {
    "colab": {
     "base_uri": "https://localhost:8080/"
    },
    "id": "10161bcb-c359-4d48-b71d-8ea7c73e4786",
    "outputId": "9700e359-b92b-4920-994c-ba545c9fdcd9"
   },
   "outputs": [
    {
     "name": "stderr",
     "output_type": "stream",
     "text": [
      "100%|█| 3125/3125 [12:28<00:00,  4.17it/s, L_clean=2.87, L_adv=0, L_energy=3.24,\n"
     ]
    },
    {
     "name": "stdout",
     "output_type": "stream",
     "text": [
      "[Epoch 1]\n",
      "  L_clean: 3.5866\n",
      "  L_adv: 0.0000\n",
      "  L_energy: 3.4339\n",
      "  E_clean: 1.7136\n",
      "  E_adv: 1.7136\n"
     ]
    },
    {
     "name": "stderr",
     "output_type": "stream",
     "text": [
      "100%|█| 3125/3125 [12:38<00:00,  4.12it/s, L_clean=1.91, L_adv=0, L_energy=2.22,\n"
     ]
    },
    {
     "name": "stdout",
     "output_type": "stream",
     "text": [
      "[Epoch 2]\n",
      "  L_clean: 3.7686\n",
      "  L_adv: 0.0000\n",
      "  L_energy: 2.4064\n",
      "  E_clean: 2.9709\n",
      "  E_adv: 2.9709\n"
     ]
    },
    {
     "name": "stderr",
     "output_type": "stream",
     "text": [
      "100%|█| 3125/3125 [12:40<00:00,  4.11it/s, L_clean=6.31, L_adv=0, L_energy=1.07,"
     ]
    },
    {
     "name": "stdout",
     "output_type": "stream",
     "text": [
      "[Epoch 3]\n",
      "  L_clean: 4.4158\n",
      "  L_adv: 0.0000\n",
      "  L_energy: 1.4577\n",
      "  E_clean: 4.0548\n",
      "  E_adv: 4.0548\n"
     ]
    },
    {
     "name": "stderr",
     "output_type": "stream",
     "text": [
      "\n"
     ]
    }
   ],
   "source": [
    "model = ModelWrapper(num_classes).to(device)\n",
    "optimizer = optim.SGD(model.parameters(), lr=lr, momentum=0.9, weight_decay=5e-4)\n",
    "loss_fn = F.cross_entropy\n",
    "\n",
    "for epoch in range(epochs):\n",
    "    model.train()\n",
    "    total_metrics = {'L_clean': 0, 'L_adv': 0, 'L_energy': 0, 'E_clean': 0, 'E_adv': 0}\n",
    "    progress_bar = tqdm(train_loader, total=len(train_loader))\n",
    "    for x, y in progress_bar:\n",
    "        x, y = x.to(device), y.to(device)\n",
    "        optimizer.zero_grad()\n",
    "        loss, metrics = compute_loss(model, x, y, loss_fn, epsilon_energy, delta_energy, lambda_adv, lambda_energy,\n",
    "                                    use_lower_boundary=True, use_upper_boundary=True)\n",
    "        optimizer.zero_grad()\n",
    "        loss.backward()\n",
    "        optimizer.step()\n",
    "\n",
    "        for k in total_metrics:\n",
    "            total_metrics[k] += metrics[k]\n",
    "\n",
    "        progress_bar.set_postfix(metrics)\n",
    "\n",
    "    print(f\"[Epoch {epoch+1}]\")\n",
    "    for k in total_metrics:\n",
    "        print(f\"  {k}: {total_metrics[k] / len(train_loader):.4f}\")"
   ]
  },
  {
   "cell_type": "code",
   "execution_count": 32,
   "id": "368ec60d-a0df-46bf-8081-9a79d9b3f8c7",
   "metadata": {
    "id": "368ec60d-a0df-46bf-8081-9a79d9b3f8c7"
   },
   "outputs": [],
   "source": [
    "torch.save(model.state_dict(), \"resnet18_10aug_high_energy_no_adv.pt\")"
   ]
  },
  {
   "cell_type": "markdown",
   "id": "3aN3-Ph3rkfE",
   "metadata": {
    "id": "3aN3-Ph3rkfE"
   },
   "source": [
    "## Evaluation"
   ]
  },
  {
   "cell_type": "code",
   "execution_count": 87,
   "id": "PXu1IUyl9MPb",
   "metadata": {
    "id": "PXu1IUyl9MPb"
   },
   "outputs": [
    {
     "data": {
      "text/plain": [
       "<All keys matched successfully>"
      ]
     },
     "execution_count": 87,
     "metadata": {},
     "output_type": "execute_result"
    }
   ],
   "source": [
    "model = ModelWrapper(num_classes).to(device)\n",
    "model.load_state_dict(torch.load(\"resnet18_09aug_no_energy.pt\"))"
   ]
  },
  {
   "cell_type": "code",
   "execution_count": 42,
   "id": "71c96484-2a34-4b7a-8673-3f4908b1706c",
   "metadata": {
    "id": "71c96484-2a34-4b7a-8673-3f4908b1706c"
   },
   "outputs": [],
   "source": [
    "# evaluate.py\n",
    "import torch\n",
    "from torch.utils.data import DataLoader\n",
    "from torchvision import datasets, transforms\n",
    "import torch.nn.functional as F\n",
    "# from model import ModelWrapper\n",
    "# from utils import fgsm_attack, predict_with_rejection\n",
    "# from config import *\n",
    "\n",
    "def evaluate(model, loader, abstention_threshold, examples=float(\"inf\")):\n",
    "    model.eval()\n",
    "\n",
    "    all_clean_E = list()\n",
    "    all_adv_E = list()\n",
    "\n",
    "    clean_correct = 0\n",
    "    clean_total = 0\n",
    "    clean_rejects = 0\n",
    "    clean_no_defense_correct = 0\n",
    "\n",
    "    robust_correct = 0\n",
    "    robust_total = 0\n",
    "    robust_rejects = 0\n",
    "    robust_no_defense_correct = 0\n",
    "\n",
    "    # with torch.no_grad(): -- prohibited, we need gradients for FGSM attack\n",
    "    i = -1\n",
    "    for x, y in tqdm(loader, total=len(loader)):\n",
    "        i += 1\n",
    "        if i > examples:\n",
    "            break\n",
    "        x, y = x.to(device), y.to(device)\n",
    "\n",
    "        logits_clean, energy_clean = model(x)\n",
    "        all_clean_E.append(energy_clean.cpu().detach())\n",
    "        preds_clean = torch.argmax(logits_clean, dim=1)\n",
    "        reject_clean = (energy_clean.squeeze() > abstention_threshold)\n",
    "        valid_clean = ~reject_clean\n",
    "\n",
    "        clean_correct += (preds_clean[valid_clean] == y[valid_clean]).sum().item()\n",
    "        clean_no_defense_correct += (preds_clean == y).sum().item()\n",
    "        clean_rejects += reject_clean.sum().item()\n",
    "        clean_total += y.size(0)\n",
    "\n",
    "        x_adv = fgsm_attack(model, x, y, F.cross_entropy, alpha_fgsm)\n",
    "        logits_adv, energy_adv = model(x_adv)\n",
    "        all_adv_E.append(energy_adv.cpu().detach())\n",
    "        preds_adv = torch.argmax(logits_adv, dim=1)\n",
    "        reject_adv = (energy_adv.squeeze() > abstention_threshold)\n",
    "        valid_adv = ~reject_adv\n",
    "\n",
    "        robust_correct += (preds_adv[valid_adv] == y[valid_adv]).sum().item()\n",
    "        robust_no_defense_correct += (preds_adv == y).sum().item()\n",
    "        robust_rejects += reject_adv.sum().item()\n",
    "        robust_total += y.size(0)\n",
    "\n",
    "\n",
    "    if clean_total == clean_rejects:\n",
    "        clean_acc = float(\"NaN\")\n",
    "    else:\n",
    "        clean_acc = clean_correct / (clean_total - clean_rejects)\n",
    "    clean_no_def_acc = clean_no_defense_correct / clean_total\n",
    "    clean_reject_rate = clean_rejects / clean_total\n",
    "\n",
    "    if robust_total == robust_rejects:\n",
    "        robust_acc = float(\"NaN\")\n",
    "    else:\n",
    "        robust_acc = robust_correct / (robust_total - robust_rejects)\n",
    "    robust_no_def_acc = robust_no_defense_correct / robust_total\n",
    "    robust_reject_rate = robust_rejects / robust_total\n",
    "\n",
    "    print(f\"Clean Accuracy (rejected samples excluded): {clean_acc:.4f}\")\n",
    "    print(f\"Clean Accuracy (rejected samples included): {clean_no_def_acc:.4f}\")\n",
    "    print(f\"Clean Rejection Rate:       {clean_reject_rate:.4f}\")\n",
    "    print(f\"Robust Accuracy (rejected samples excluded): {robust_acc:.4f}\")\n",
    "    print(f\"Robust Accuracy (rejected samples included): {robust_no_def_acc:.4f}\")\n",
    "    print(f\"Adversarial Detection Rate:  {robust_reject_rate:.4f}\")\n",
    "\n",
    "    all_clean_E = torch.cat(all_clean_E).squeeze().numpy()\n",
    "    all_adv_E = torch.cat(all_adv_E).squeeze().numpy()\n",
    "    return all_clean_E, all_adv_E\n",
    "\n",
    "import matplotlib.pyplot as plt\n",
    "import numpy as np\n",
    "\n",
    "def energy_hist(energy_clean, energy_adv, abstention_threshold, binwidth=None):\n",
    "    if not binwidth:\n",
    "        binwidth = (max(energy_clean) - min(energy_clean)) / 100\n",
    "    plt.hist(energy_clean, alpha=0.5, label='Clean Energy', bins=np.arange(min(energy_clean), max(energy_clean) + binwidth, binwidth))\n",
    "    plt.hist(energy_adv, alpha=0.5, label='Adversarial Energy', bins=np.arange(min(energy_clean), max(energy_clean) + binwidth, binwidth))\n",
    "    plt.axvline(abstention_threshold, color='red', linestyle='--', label='Abstention Threshold')\n",
    "    plt.xlabel(\"Energy\")\n",
    "    plt.ylabel(\"Count\")\n",
    "    plt.title(\"Energy Distribution: Clean vs Adversarial\")\n",
    "    plt.legend()\n",
    "    plt.grid(True)\n",
    "    plt.show()\n"
   ]
  },
  {
   "cell_type": "code",
   "execution_count": 34,
   "id": "3056f9e2-59e2-4e4b-beb0-c4ee72115b4c",
   "metadata": {
    "colab": {
     "base_uri": "https://localhost:8080/",
     "height": 614
    },
    "id": "3056f9e2-59e2-4e4b-beb0-c4ee72115b4c",
    "outputId": "55952d21-8422-4926-c9e8-f6f190f187fe"
   },
   "outputs": [
    {
     "name": "stderr",
     "output_type": "stream",
     "text": [
      "  1%|▍                                        | 33/3125 [00:04<07:31,  6.84it/s]\n"
     ]
    },
    {
     "ename": "KeyboardInterrupt",
     "evalue": "",
     "output_type": "error",
     "traceback": [
      "\u001b[0;31m---------------------------------------------------------------------------\u001b[0m",
      "\u001b[0;31mKeyboardInterrupt\u001b[0m                         Traceback (most recent call last)",
      "Cell \u001b[0;32mIn[34], line 1\u001b[0m\n\u001b[0;32m----> 1\u001b[0m E_clean, E_adv \u001b[38;5;241m=\u001b[39m \u001b[43mevaluate\u001b[49m\u001b[43m(\u001b[49m\u001b[43mmodel\u001b[49m\u001b[43m,\u001b[49m\u001b[43m \u001b[49m\u001b[43mtrain_loader\u001b[49m\u001b[43m,\u001b[49m\u001b[43m \u001b[49m\u001b[43mepsilon_energy\u001b[49m\u001b[38;5;241;43m+\u001b[39;49m\u001b[38;5;241;43m0.5\u001b[39;49m\u001b[38;5;241;43m*\u001b[39;49m\u001b[43mdelta_energy\u001b[49m\u001b[43m)\u001b[49m\n\u001b[1;32m      2\u001b[0m energy_hist(E_clean, E_adv, epsilon_energy\u001b[38;5;241m+\u001b[39m\u001b[38;5;241m0.5\u001b[39m\u001b[38;5;241m*\u001b[39mdelta_energy)\n",
      "Cell \u001b[0;32mIn[33], line 45\u001b[0m, in \u001b[0;36mevaluate\u001b[0;34m(model, loader, abstention_threshold, examples)\u001b[0m\n\u001b[1;32m     42\u001b[0m clean_rejects \u001b[38;5;241m+\u001b[39m\u001b[38;5;241m=\u001b[39m reject_clean\u001b[38;5;241m.\u001b[39msum()\u001b[38;5;241m.\u001b[39mitem()\n\u001b[1;32m     43\u001b[0m clean_total \u001b[38;5;241m+\u001b[39m\u001b[38;5;241m=\u001b[39m y\u001b[38;5;241m.\u001b[39msize(\u001b[38;5;241m0\u001b[39m)\n\u001b[0;32m---> 45\u001b[0m x_adv \u001b[38;5;241m=\u001b[39m \u001b[43mfgsm_attack\u001b[49m\u001b[43m(\u001b[49m\u001b[43mmodel\u001b[49m\u001b[43m,\u001b[49m\u001b[43m \u001b[49m\u001b[43mx\u001b[49m\u001b[43m,\u001b[49m\u001b[43m \u001b[49m\u001b[43my\u001b[49m\u001b[43m,\u001b[49m\u001b[43m \u001b[49m\u001b[43mF\u001b[49m\u001b[38;5;241;43m.\u001b[39;49m\u001b[43mcross_entropy\u001b[49m\u001b[43m,\u001b[49m\u001b[43m \u001b[49m\u001b[43malpha_fgsm\u001b[49m\u001b[43m)\u001b[49m\n\u001b[1;32m     46\u001b[0m logits_adv, energy_adv \u001b[38;5;241m=\u001b[39m model(x_adv)\n\u001b[1;32m     47\u001b[0m all_adv_E\u001b[38;5;241m.\u001b[39mappend(energy_adv\u001b[38;5;241m.\u001b[39mcpu()\u001b[38;5;241m.\u001b[39mdetach())\n",
      "Cell \u001b[0;32mIn[29], line 15\u001b[0m, in \u001b[0;36mfgsm_attack\u001b[0;34m(model, x, y, loss_fn, alpha)\u001b[0m\n\u001b[1;32m     12\u001b[0m loss \u001b[38;5;241m=\u001b[39m loss_fn(logits, y)\n\u001b[1;32m     13\u001b[0m loss\u001b[38;5;241m.\u001b[39mbackward()\n\u001b[0;32m---> 15\u001b[0m min_vals \u001b[38;5;241m=\u001b[39m \u001b[43mPIXEL_MIN\u001b[49m\u001b[38;5;241;43m.\u001b[39;49m\u001b[43mto\u001b[49m\u001b[43m(\u001b[49m\u001b[43mx_adv\u001b[49m\u001b[38;5;241;43m.\u001b[39;49m\u001b[43mdevice\u001b[49m\u001b[43m)\u001b[49m\u001b[38;5;241m.\u001b[39mview(\u001b[38;5;241m1\u001b[39m, \u001b[38;5;241m3\u001b[39m, \u001b[38;5;241m1\u001b[39m, \u001b[38;5;241m1\u001b[39m)\u001b[38;5;241m.\u001b[39mexpand_as(x_adv)\n\u001b[1;32m     16\u001b[0m max_vals \u001b[38;5;241m=\u001b[39m PIXEL_MAX\u001b[38;5;241m.\u001b[39mto(x_adv\u001b[38;5;241m.\u001b[39mdevice)\u001b[38;5;241m.\u001b[39mview(\u001b[38;5;241m1\u001b[39m, \u001b[38;5;241m3\u001b[39m, \u001b[38;5;241m1\u001b[39m, \u001b[38;5;241m1\u001b[39m)\u001b[38;5;241m.\u001b[39mexpand_as(x_adv)\n\u001b[1;32m     18\u001b[0m ranges \u001b[38;5;241m=\u001b[39m max_vals \u001b[38;5;241m-\u001b[39m min_vals\n",
      "\u001b[0;31mKeyboardInterrupt\u001b[0m: "
     ]
    }
   ],
   "source": [
    "E_clean, E_adv = evaluate(model, train_loader, epsilon_energy+0.5*delta_energy)\n",
    "energy_hist(E_clean, E_adv, epsilon_energy+0.5*delta_energy)"
   ]
  },
  {
   "cell_type": "code",
   "execution_count": 41,
   "id": "ca39e5ec-4f2f-48b9-9998-4908e75473ff",
   "metadata": {
    "colab": {
     "base_uri": "https://localhost:8080/",
     "height": 614
    },
    "id": "ca39e5ec-4f2f-48b9-9998-4908e75473ff",
    "outputId": "03df2b7b-1f9d-48ec-d365-22a1ea67e6c0"
   },
   "outputs": [
    {
     "name": "stderr",
     "output_type": "stream",
     "text": [
      "100%|█████████████████████████████████████████| 625/625 [01:46<00:00,  5.85it/s]\n"
     ]
    },
    {
     "name": "stdout",
     "output_type": "stream",
     "text": [
      "Clean Accuracy (rejected samples excluded): 0.3639\n",
      "Clean Accuracy (rejected samples included): 0.6052\n",
      "Clean Rejection Rate:       0.7227\n",
      "Robust Accuracy (rejected samples excluded): 0.0486\n",
      "Robust Accuracy (rejected samples included): 0.0809\n",
      "Adversarial Detection Rate:  0.9156\n"
     ]
    },
    {
     "data": {
      "image/png": "[encoded data removed]",
      "text/plain": [
       "<Figure size 640x480 with 1 Axes>"
      ]
     },
     "metadata": {},
     "output_type": "display_data"
    }
   ],
   "source": [
    "E_clean, E_adv = evaluate(model, test_loader, epsilon_energy-0.33*delta_energy)\n",
    "energy_hist(E_clean, E_adv, 0)"
   ]
  },
  {
   "cell_type": "code",
   "execution_count": 45,
   "id": "347cb91a-df62-4793-baf9-b6df60fda6b9",
   "metadata": {},
   "outputs": [
    {
     "data": {
      "image/png": "[encoded data removed]",
      "text/plain": [
       "<Figure size 640x480 with 1 Axes>"
      ]
     },
     "metadata": {},
     "output_type": "display_data"
    }
   ],
   "source": [
    "energy_hist(E_clean, E_adv, 0, binwidth=None)"
   ]
  }
 ],
 "metadata": {
  "accelerator": "GPU",
  "colab": {
   "collapsed_sections": [
    "oTwr7tHycYQR"
   ],
   "gpuType": "T4",
   "provenance": []
  },
  "kernelspec": {
   "display_name": "manifold-projection-layer",
   "language": "python",
   "name": ".venv"
  },
  "language_info": {
   "codemirror_mode": {
    "name": "ipython",
    "version": 3
   },
   "file_extension": ".py",
   "mimetype": "text/x-python",
   "name": "python",
   "nbconvert_exporter": "python",
   "pygments_lexer": "ipython3",
   "version": "3.10.12"
  }
 },
 "nbformat": 4,
 "nbformat_minor": 5
}
