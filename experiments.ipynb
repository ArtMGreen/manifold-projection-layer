{
 "cells": [
  {
   "cell_type": "code",
   "execution_count": 1,
   "id": "de6e2229-d7c6-44f8-9808-daba8ba70f32",
   "metadata": {
    "id": "de6e2229-d7c6-44f8-9808-daba8ba70f32"
   },
   "outputs": [],
   "source": [
    "# config.py\n",
    "epsilon_energy = 5.0\n",
    "delta_energy = 5.0\n",
    "lambda_energy = 0.25\n",
    "alpha_fgsm = 8 / 255\n",
    "\n",
    "num_classes = 10\n",
    "batch_size = 16\n",
    "epochs = 10\n",
    "lr = 0.005\n",
    "device = 'cuda'"
   ]
  },
  {
   "cell_type": "markdown",
   "id": "oTwr7tHycYQR",
   "metadata": {
    "id": "oTwr7tHycYQR"
   },
   "source": [
    "## CIFAR-10 to PNG images (run once on your machine)"
   ]
  },
  {
   "cell_type": "code",
   "execution_count": 1,
   "id": "e93ab45b-56a1-4b99-a08d-ca27a45732c5",
   "metadata": {},
   "outputs": [
    {
     "name": "stderr",
     "output_type": "stream",
     "text": [
      "/home/artmgreen/DataspellProjects/manifold-projection-layer/.venv/lib/python3.10/site-packages/torchvision/transforms/v2/_deprecated.py:42: UserWarning: The transform `ToTensor()` is deprecated and will be removed in a future release. Instead, please use `v2.Compose([v2.ToImage(), v2.ToDtype(torch.float32, scale=True)])`.Output is equivalent up to float precision.\n",
      "  warnings.warn(\n"
     ]
    }
   ],
   "source": [
    "from download_CIFAR10 import extract_cifar10_as_images\n",
    "extract_cifar10_as_images()"
   ]
  },
  {
   "cell_type": "markdown",
   "id": "jt1zr4cIcyff",
   "metadata": {
    "id": "jt1zr4cIcyff"
   },
   "source": [
    "## `torch` dataset and loader formation"
   ]
  },
  {
   "cell_type": "code",
   "execution_count": 2,
   "id": "__ijwxP3c9jG",
   "metadata": {
    "id": "__ijwxP3c9jG"
   },
   "outputs": [],
   "source": [
    "# ? dataset.py ?\n",
    "import torch\n",
    "\n",
    "from torchvision.transforms import v2\n",
    "from torchvision.transforms.functional import InterpolationMode\n",
    "\n",
    "from torch.utils.data import DataLoader\n",
    "\n",
    "from dataset import CIFAR10\n",
    "# from config import batch_size\n",
    "\n",
    "\n",
    "resnet18_preprocess = v2.Compose([\n",
    "    v2.Resize(224, interpolation=InterpolationMode.BILINEAR),\n",
    "    # v2.CenterCrop(224),\n",
    "    v2.ToDtype(torch.float32, scale=True),  # to [0, 1]\n",
    "    v2.Normalize(mean=[0.485, 0.456, 0.406],\n",
    "                 std=[0.229, 0.224, 0.225])  # to ([0, 1]^3 - mean) / std\n",
    "])\n",
    "\n",
    "# what do we do with the changed range? It's not [0, 1] anymore, but we still clamp it to [0, 1] when doing an FGSM attack}\n",
    "\n",
    "train_dataset = CIFAR10(root='./data', train=True, transform=resnet18_preprocess)\n",
    "test_dataset = CIFAR10(root='./data', train=False, transform=resnet18_preprocess)\n",
    "\n",
    "train_loader = DataLoader(train_dataset, batch_size=batch_size, shuffle=True, num_workers=4, pin_memory=True)\n",
    "test_loader = DataLoader(test_dataset, batch_size=batch_size, num_workers=4, pin_memory=True)"
   ]
  },
  {
   "cell_type": "markdown",
   "id": "mn5Udhh6khok",
   "metadata": {
    "id": "mn5Udhh6khok"
   },
   "source": [
    "## Model definition"
   ]
  },
  {
   "cell_type": "code",
   "execution_count": 3,
   "id": "f9912e10-5f0a-445a-9e38-1bed36fd550e",
   "metadata": {
    "id": "f9912e10-5f0a-445a-9e38-1bed36fd550e"
   },
   "outputs": [],
   "source": [
    "# model.py\n",
    "from model import ModelWrapper"
   ]
  },
  {
   "cell_type": "code",
   "execution_count": 4,
   "id": "f3ff06b8-d3a1-460b-a9fb-17e081e53f07",
   "metadata": {
    "id": "f3ff06b8-d3a1-460b-a9fb-17e081e53f07"
   },
   "outputs": [],
   "source": [
    "# utils.py\n",
    "import torch\n",
    "import torch.nn.functional as F\n",
    "#from config import alpha_fgsm\n",
    "\n",
    "def fgsm_attack(model, x, y, loss_fn, alpha):\n",
    "    model.eval()\n",
    "    x_adv = x.detach().clone().requires_grad_(True)\n",
    "    logits, _ = model(x_adv)\n",
    "    loss = loss_fn(logits, y)\n",
    "    loss.backward()\n",
    "    x_adv = x_adv + alpha * x_adv.grad.sign()\n",
    "    x_adv = torch.clamp(x_adv, 0, 1) # Clamping to [0, 1] when we shouldn't (?), see the section where we form a loader\n",
    "    return x_adv.detach()\n",
    "\n",
    "def compute_loss(model, x, y, loss_fn, epsilon, delta, lambda_energy):\n",
    "    logits_clean, energy_clean = model(x)\n",
    "    loss_clean = loss_fn(logits_clean, y, reduction=\"mean\")\n",
    "    # model.eval() is called inside fgsm_attack()\n",
    "    x_adv = fgsm_attack(model, x, y, loss_fn, alpha_fgsm)\n",
    "    model.train()\n",
    "    logits_adv, energy_adv = model(x_adv)\n",
    "    loss_adv = loss_fn(logits_adv, y, reduction=\"mean\")\n",
    "\n",
    "    loss_energy = 0\n",
    "    if lambda_energy != 0:\n",
    "        loss_energy = lambda_energy * (\n",
    "            F.relu(energy_clean - epsilon) +\n",
    "            F.relu(epsilon + delta - energy_adv)\n",
    "        ).mean(dim=0)\n",
    "        loss_energy = loss_energy.mean()\n",
    "\n",
    "    total_loss = loss_clean + loss_adv + loss_energy\n",
    "\n",
    "    metrics = {\n",
    "        'L_clean': loss_clean.item(),\n",
    "        'L_adv': loss_adv.item(),\n",
    "        'L_energy': loss_energy.item(),\n",
    "        'E_clean': energy_clean.mean().item(),\n",
    "        'E_adv': energy_adv.mean().item(),\n",
    "    }\n",
    "\n",
    "    return total_loss, metrics\n",
    "\n",
    "def predict_with_rejection(model, x, epsilon):\n",
    "    logits, energy = model(x)\n",
    "    preds = torch.argmax(logits, dim=1)\n",
    "    rejected = energy.squeeze() > epsilon\n",
    "    preds[rejected] = -1  # -1 means abstain\n",
    "    return preds"
   ]
  },
  {
   "cell_type": "markdown",
   "id": "71vIUYN9riIf",
   "metadata": {
    "id": "71vIUYN9riIf"
   },
   "source": [
    "## Model training"
   ]
  },
  {
   "cell_type": "code",
   "execution_count": 5,
   "id": "5e921c4f-2c9f-4098-bd5d-a529f6bb270d",
   "metadata": {
    "id": "5e921c4f-2c9f-4098-bd5d-a529f6bb270d"
   },
   "outputs": [],
   "source": [
    "# train.py\n",
    "from tqdm import tqdm\n",
    "import torch\n",
    "from torch.utils.data import DataLoader\n",
    "from torchvision import datasets, transforms\n",
    "import torch.optim as optim\n",
    "import torch.nn.functional as F\n",
    "\n",
    "\n",
    "#from utils import compute_loss\n",
    "#from config import *"
   ]
  },
  {
   "cell_type": "code",
   "execution_count": 6,
   "id": "10161bcb-c359-4d48-b71d-8ea7c73e4786",
   "metadata": {
    "colab": {
     "base_uri": "https://localhost:8080/"
    },
    "id": "10161bcb-c359-4d48-b71d-8ea7c73e4786",
    "outputId": "9700e359-b92b-4920-994c-ba545c9fdcd9"
   },
   "outputs": [
    {
     "name": "stderr",
     "output_type": "stream",
     "text": [
      "  0%| | 9/3125 [00:02<16:10,  3.21it/s, L_clean=2.38, L_adv=2.48, L_energy=2.39,\n"
     ]
    },
    {
     "ename": "KeyboardInterrupt",
     "evalue": "",
     "output_type": "error",
     "traceback": [
      "\u001b[0;31m---------------------------------------------------------------------------\u001b[0m",
      "\u001b[0;31mKeyboardInterrupt\u001b[0m                         Traceback (most recent call last)",
      "Cell \u001b[0;32mIn[6], line 12\u001b[0m\n\u001b[1;32m     10\u001b[0m x, y \u001b[38;5;241m=\u001b[39m x\u001b[38;5;241m.\u001b[39mto(device), y\u001b[38;5;241m.\u001b[39mto(device)\n\u001b[1;32m     11\u001b[0m optimizer\u001b[38;5;241m.\u001b[39mzero_grad()\n\u001b[0;32m---> 12\u001b[0m loss, metrics \u001b[38;5;241m=\u001b[39m \u001b[43mcompute_loss\u001b[49m\u001b[43m(\u001b[49m\u001b[43mmodel\u001b[49m\u001b[43m,\u001b[49m\u001b[43m \u001b[49m\u001b[43mx\u001b[49m\u001b[43m,\u001b[49m\u001b[43m \u001b[49m\u001b[43my\u001b[49m\u001b[43m,\u001b[49m\u001b[43m \u001b[49m\u001b[43mloss_fn\u001b[49m\u001b[43m,\u001b[49m\u001b[43m \u001b[49m\u001b[43mepsilon_energy\u001b[49m\u001b[43m,\u001b[49m\u001b[43m \u001b[49m\u001b[43mdelta_energy\u001b[49m\u001b[43m,\u001b[49m\u001b[43m \u001b[49m\u001b[43mlambda_energy\u001b[49m\u001b[43m)\u001b[49m\n\u001b[1;32m     13\u001b[0m optimizer\u001b[38;5;241m.\u001b[39mzero_grad()\n\u001b[1;32m     14\u001b[0m loss\u001b[38;5;241m.\u001b[39mbackward()\n",
      "Cell \u001b[0;32mIn[4], line 36\u001b[0m, in \u001b[0;36mcompute_loss\u001b[0;34m(model, x, y, loss_fn, epsilon, delta, lambda_energy)\u001b[0m\n\u001b[1;32m     31\u001b[0m     loss_energy \u001b[38;5;241m=\u001b[39m loss_energy\u001b[38;5;241m.\u001b[39mmean()\n\u001b[1;32m     33\u001b[0m total_loss \u001b[38;5;241m=\u001b[39m loss_clean \u001b[38;5;241m+\u001b[39m loss_adv \u001b[38;5;241m+\u001b[39m loss_energy\n\u001b[1;32m     35\u001b[0m metrics \u001b[38;5;241m=\u001b[39m {\n\u001b[0;32m---> 36\u001b[0m     \u001b[38;5;124m'\u001b[39m\u001b[38;5;124mL_clean\u001b[39m\u001b[38;5;124m'\u001b[39m: \u001b[43mloss_clean\u001b[49m\u001b[38;5;241;43m.\u001b[39;49m\u001b[43mitem\u001b[49m\u001b[43m(\u001b[49m\u001b[43m)\u001b[49m,\n\u001b[1;32m     37\u001b[0m     \u001b[38;5;124m'\u001b[39m\u001b[38;5;124mL_adv\u001b[39m\u001b[38;5;124m'\u001b[39m: loss_adv\u001b[38;5;241m.\u001b[39mitem(),\n\u001b[1;32m     38\u001b[0m     \u001b[38;5;124m'\u001b[39m\u001b[38;5;124mL_energy\u001b[39m\u001b[38;5;124m'\u001b[39m: loss_energy\u001b[38;5;241m.\u001b[39mitem(),\n\u001b[1;32m     39\u001b[0m     \u001b[38;5;124m'\u001b[39m\u001b[38;5;124mE_clean\u001b[39m\u001b[38;5;124m'\u001b[39m: energy_clean\u001b[38;5;241m.\u001b[39mmean()\u001b[38;5;241m.\u001b[39mitem(),\n\u001b[1;32m     40\u001b[0m     \u001b[38;5;124m'\u001b[39m\u001b[38;5;124mE_adv\u001b[39m\u001b[38;5;124m'\u001b[39m: energy_adv\u001b[38;5;241m.\u001b[39mmean()\u001b[38;5;241m.\u001b[39mitem(),\n\u001b[1;32m     41\u001b[0m }\n\u001b[1;32m     43\u001b[0m \u001b[38;5;28;01mreturn\u001b[39;00m total_loss, metrics\n",
      "\u001b[0;31mKeyboardInterrupt\u001b[0m: "
     ]
    }
   ],
   "source": [
    "model = ModelWrapper(num_classes).to(device)\n",
    "optimizer = optim.SGD(model.parameters(), lr=lr, momentum=0.9, weight_decay=5e-4)\n",
    "loss_fn = F.cross_entropy\n",
    "\n",
    "for epoch in range(epochs):\n",
    "    model.train()\n",
    "    total_metrics = {'L_clean': 0, 'L_adv': 0, 'L_energy': 0, 'E_clean': 0, 'E_adv': 0}\n",
    "    progress_bar = tqdm(train_loader, total=len(train_loader))\n",
    "    for x, y in progress_bar:\n",
    "        x, y = x.to(device), y.to(device)\n",
    "        optimizer.zero_grad()\n",
    "        loss, metrics = compute_loss(model, x, y, loss_fn, epsilon_energy, delta_energy, lambda_energy)\n",
    "        optimizer.zero_grad()\n",
    "        loss.backward()\n",
    "        optimizer.step()\n",
    "\n",
    "        for k in total_metrics:\n",
    "            total_metrics[k] += metrics[k]\n",
    "\n",
    "        progress_bar.set_postfix(metrics)\n",
    "\n",
    "    print(f\"[Epoch {epoch+1}]\")\n",
    "    for k in total_metrics:\n",
    "        print(f\"  {k}: {total_metrics[k] / len(train_loader):.4f}\")"
   ]
  },
  {
   "cell_type": "code",
   "execution_count": 18,
   "id": "368ec60d-a0df-46bf-8081-9a79d9b3f8c7",
   "metadata": {
    "id": "368ec60d-a0df-46bf-8081-9a79d9b3f8c7"
   },
   "outputs": [],
   "source": [
    "torch.save(model.state_dict(), \"model.pt\")"
   ]
  },
  {
   "cell_type": "markdown",
   "id": "3aN3-Ph3rkfE",
   "metadata": {
    "id": "3aN3-Ph3rkfE"
   },
   "source": [
    "## Evaluation"
   ]
  },
  {
   "cell_type": "code",
   "execution_count": 7,
   "id": "PXu1IUyl9MPb",
   "metadata": {
    "id": "PXu1IUyl9MPb"
   },
   "outputs": [
    {
     "data": {
      "text/plain": [
       "<All keys matched successfully>"
      ]
     },
     "execution_count": 7,
     "metadata": {},
     "output_type": "execute_result"
    }
   ],
   "source": [
    "model = ModelWrapper(num_classes).to(device)\n",
    "model.load_state_dict(torch.load(\"resnet18_04aug.pt\"))"
   ]
  },
  {
   "cell_type": "code",
   "execution_count": 8,
   "id": "71c96484-2a34-4b7a-8673-3f4908b1706c",
   "metadata": {
    "id": "71c96484-2a34-4b7a-8673-3f4908b1706c"
   },
   "outputs": [],
   "source": [
    "# evaluate.py\n",
    "import torch\n",
    "from torch.utils.data import DataLoader\n",
    "from torchvision import datasets, transforms\n",
    "import torch.nn.functional as F\n",
    "# from model import ModelWrapper\n",
    "# from utils import fgsm_attack, predict_with_rejection\n",
    "# from config import *\n",
    "\n",
    "def evaluate(model, loader, abstention_threshold, examples=float(\"inf\")):\n",
    "    model.eval()\n",
    "\n",
    "    all_clean_E = list()\n",
    "    all_adv_E = list()\n",
    "\n",
    "    clean_correct = 0\n",
    "    clean_total = 0\n",
    "    clean_rejects = 0\n",
    "    clean_no_defense_correct = 0\n",
    "\n",
    "    robust_correct = 0\n",
    "    robust_total = 0\n",
    "    robust_rejects = 0\n",
    "    robust_no_defense_correct = 0\n",
    "\n",
    "    # with torch.no_grad(): -- prohibited, we need gradients for FGSM attack\n",
    "    i = -1\n",
    "    for x, y in tqdm(loader, total=len(loader)):\n",
    "        i += 1\n",
    "        if i > examples:\n",
    "            break\n",
    "        x, y = x.to(device), y.to(device)\n",
    "\n",
    "        logits_clean, energy_clean = model(x)\n",
    "        all_clean_E.append(energy_clean.cpu().detach())\n",
    "        preds_clean = torch.argmax(logits_clean, dim=1)\n",
    "        reject_clean = (energy_clean.squeeze() > abstention_threshold)\n",
    "        valid_clean = ~reject_clean\n",
    "\n",
    "        clean_correct += (preds_clean[valid_clean] == y[valid_clean]).sum().item()\n",
    "        clean_no_defense_correct += (preds_clean == y).sum().item()\n",
    "        clean_rejects += reject_clean.sum().item()\n",
    "        clean_total += y.size(0)\n",
    "\n",
    "        x_adv = fgsm_attack(model, x, y, F.cross_entropy, alpha_fgsm)\n",
    "        logits_adv, energy_adv = model(x_adv)\n",
    "        all_adv_E.append(energy_adv.cpu().detach())\n",
    "        preds_adv = torch.argmax(logits_adv, dim=1)\n",
    "        reject_adv = (energy_adv.squeeze() > abstention_threshold)\n",
    "        valid_adv = ~reject_adv\n",
    "\n",
    "        robust_correct += (preds_adv[valid_adv] == y[valid_adv]).sum().item()\n",
    "        robust_no_defense_correct += (preds_adv == y).sum().item()\n",
    "        robust_rejects += reject_adv.sum().item()\n",
    "        robust_total += y.size(0)\n",
    "\n",
    "\n",
    "    if clean_total == clean_rejects:\n",
    "        clean_acc = float(\"NaN\")\n",
    "    else:\n",
    "        clean_acc = clean_correct / (clean_total - clean_rejects)\n",
    "    clean_no_def_acc = clean_no_defense_correct / clean_total\n",
    "    clean_reject_rate = clean_rejects / clean_total\n",
    "\n",
    "    if robust_total == robust_rejects:\n",
    "        robust_acc = float(\"NaN\")\n",
    "    else:\n",
    "        robust_acc = robust_correct / (robust_total - robust_rejects)\n",
    "    robust_no_def_acc = robust_no_defense_correct / robust_total\n",
    "    robust_reject_rate = robust_rejects / robust_total\n",
    "\n",
    "    print(f\"Clean Accuracy (rejected samples excluded): {clean_acc:.4f}\")\n",
    "    print(f\"Clean Accuracy (rejected samples included): {clean_no_def_acc:.4f}\")\n",
    "    print(f\"Clean Rejection Rate:       {clean_reject_rate:.4f}\")\n",
    "    print(f\"Robust Accuracy (rejected samples excluded): {robust_acc:.4f}\")\n",
    "    print(f\"Robust Accuracy (rejected samples included): {robust_no_def_acc:.4f}\")\n",
    "    print(f\"Adversarial Detection Rate:  {robust_reject_rate:.4f}\")\n",
    "\n",
    "    all_clean_E = torch.cat(all_clean_E).squeeze().numpy()\n",
    "    all_adv_E = torch.cat(all_adv_E).squeeze().numpy()\n",
    "    return all_clean_E, all_adv_E\n",
    "\n",
    "import matplotlib.pyplot as plt\n",
    "import numpy as np\n",
    "\n",
    "def energy_hist(energy_clean, energy_adv, abstention_threshold, binwidth=0.5):\n",
    "    plt.hist(energy_clean, alpha=0.5, label='Clean Energy', bins=np.arange(min(energy_clean), max(energy_clean) + binwidth, binwidth))\n",
    "    plt.hist(energy_adv, alpha=0.5, label='Adversarial Energy', bins=np.arange(min(energy_clean), max(energy_clean) + binwidth, binwidth))\n",
    "    plt.axvline(abstention_threshold, color='red', linestyle='--', label='Abstention Threshold')\n",
    "    plt.xlabel(\"Energy\")\n",
    "    plt.ylabel(\"Count\")\n",
    "    plt.title(\"Energy Distribution: Clean vs Adversarial\")\n",
    "    plt.legend()\n",
    "    plt.grid(True)\n",
    "    plt.show()\n"
   ]
  },
  {
   "cell_type": "code",
   "execution_count": 21,
   "id": "3056f9e2-59e2-4e4b-beb0-c4ee72115b4c",
   "metadata": {
    "colab": {
     "base_uri": "https://localhost:8080/",
     "height": 614
    },
    "id": "3056f9e2-59e2-4e4b-beb0-c4ee72115b4c",
    "outputId": "55952d21-8422-4926-c9e8-f6f190f187fe"
   },
   "outputs": [
    {
     "name": "stderr",
     "output_type": "stream",
     "text": [
      "100%|███████████████████████████████████████| 3125/3125 [07:04<00:00,  7.37it/s]\n"
     ]
    },
    {
     "name": "stdout",
     "output_type": "stream",
     "text": [
      "Clean Accuracy (rejected samples excluded): 1.0000\n",
      "Clean Accuracy (rejected samples included): 0.9711\n",
      "Clean Rejection Rate:       0.9925\n",
      "Robust Accuracy (rejected samples excluded): 0.9783\n",
      "Robust Accuracy (rejected samples included): 0.6585\n",
      "Adversarial Detection Rate:  0.9991\n"
     ]
    },
    {
     "data": {
      "image/png": "[encoded data removed]",
      "text/plain": [
       "<Figure size 640x480 with 1 Axes>"
      ]
     },
     "metadata": {},
     "output_type": "display_data"
    }
   ],
   "source": [
    "E_clean, E_adv = evaluate(model, train_loader, epsilon_energy+0.5*delta_energy)\n",
    "energy_hist(E_clean, E_adv, epsilon_energy+0.5*delta_energy)"
   ]
  },
  {
   "cell_type": "code",
   "execution_count": 22,
   "id": "ca39e5ec-4f2f-48b9-9998-4908e75473ff",
   "metadata": {
    "colab": {
     "base_uri": "https://localhost:8080/",
     "height": 614
    },
    "id": "ca39e5ec-4f2f-48b9-9998-4908e75473ff",
    "outputId": "03df2b7b-1f9d-48ec-d365-22a1ea67e6c0"
   },
   "outputs": [
    {
     "name": "stderr",
     "output_type": "stream",
     "text": [
      "100%|█████████████████████████████████████████| 625/625 [01:24<00:00,  7.37it/s]\n"
     ]
    },
    {
     "name": "stdout",
     "output_type": "stream",
     "text": [
      "Clean Accuracy (rejected samples excluded): 0.9161\n",
      "Clean Accuracy (rejected samples included): 0.8624\n",
      "Clean Rejection Rate:       0.2611\n",
      "Robust Accuracy (rejected samples excluded): 0.7260\n",
      "Robust Accuracy (rejected samples included): 0.5400\n",
      "Adversarial Detection Rate:  0.6584\n"
     ]
    },
    {
     "data": {
      "image/png": "[encoded data removed]",
      "text/plain": [
       "<Figure size 640x480 with 1 Axes>"
      ]
     },
     "metadata": {},
     "output_type": "display_data"
    }
   ],
   "source": [
    "E_clean, E_adv = evaluate(model, test_loader, epsilon_energy-0.33*delta_energy)\n",
    "energy_hist(E_clean, E_adv, epsilon_energy-0.33*delta_energy)"
   ]
  }
 ],
 "metadata": {
  "accelerator": "GPU",
  "colab": {
   "collapsed_sections": [
    "oTwr7tHycYQR"
   ],
   "gpuType": "T4",
   "provenance": []
  },
  "kernelspec": {
   "display_name": "manifold-projection-layer",
   "language": "python",
   "name": ".venv"
  },
  "language_info": {
   "codemirror_mode": {
    "name": "ipython",
    "version": 3
   },
   "file_extension": ".py",
   "mimetype": "text/x-python",
   "name": "python",
   "nbconvert_exporter": "python",
   "pygments_lexer": "ipython3",
   "version": "3.10.12"
  }
 },
 "nbformat": 4,
 "nbformat_minor": 5
}
